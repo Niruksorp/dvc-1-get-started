{
 "cells": [
  {
   "cell_type": "markdown",
   "metadata": {},
   "source": [
    "# Preparation\n",
    "\n",
    "\n",
    "Check README.md file for install/setup instructions \n",
    "\n",
    "**References**\n",
    "\n",
    "\n",
    "https://dvc.org/doc/tutorial/define-ml-pipeline - used as example"
   ]
  },
  {
   "cell_type": "markdown",
   "metadata": {
    "ExecuteTime": {
     "end_time": "2019-06-08T11:18:29.199273Z",
     "start_time": "2019-06-08T11:18:29.196865Z"
    }
   },
   "source": [
    "## Initialize DVC"
   ]
  },
  {
   "cell_type": "code",
   "execution_count": 1,
   "metadata": {
    "ExecuteTime": {
     "end_time": "2019-06-08T20:11:18.603337Z",
     "start_time": "2019-06-08T20:11:17.123071Z"
    }
   },
   "outputs": [
    {
     "name": "stdout",
     "output_type": "stream",
     "text": [
      "\u001b[KAdding '.dvc/state' to '.dvc/.gitignore'.\n",
      "\u001b[KAdding '.dvc/lock' to '.dvc/.gitignore'.\n",
      "\u001b[KAdding '.dvc/config.local' to '.dvc/.gitignore'.\n",
      "\u001b[KAdding '.dvc/updater' to '.dvc/.gitignore'.\n",
      "\u001b[KAdding '.dvc/updater.lock' to '.dvc/.gitignore'.\n",
      "\u001b[KAdding '.dvc/state-journal' to '.dvc/.gitignore'.\n",
      "\u001b[KAdding '.dvc/state-wal' to '.dvc/.gitignore'.\n",
      "\u001b[KAdding '.dvc/cache' to '.dvc/.gitignore'.\n",
      "\u001b[K\n",
      "You can now commit the changes to git.\n",
      "\n",
      "\u001b[K\u001b[31m+---------------------------------------------------------------------+\n",
      "\u001b[39m\u001b[31m|\u001b[39m                                                                     \u001b[31m|\u001b[39m\n",
      "\u001b[31m|\u001b[39m        DVC has enabled anonymous aggregate usage analytics.         \u001b[31m|\u001b[39m\n",
      "\u001b[31m|\u001b[39m     Read the analytics documentation (and how to opt-out) here:     \u001b[31m|\u001b[39m\n",
      "\u001b[31m|\u001b[39m              \u001b[34mhttps://dvc.org/doc/user-guide/analytics\u001b[39m               \u001b[31m|\u001b[39m\n",
      "\u001b[31m|\u001b[39m                                                                     \u001b[31m|\u001b[39m\n",
      "\u001b[31m+---------------------------------------------------------------------+\n",
      "\u001b[39m\n",
      "\u001b[K\u001b[33mWhat's next?\u001b[39m\n",
      "\u001b[33m------------\u001b[39m\n",
      "- Check out the documentation: \u001b[34mhttps://dvc.org/doc\u001b[39m\n",
      "- Get help and share ideas: \u001b[34mhttps://dvc.org/chat\u001b[39m\n",
      "- Star us on GitHub: \u001b[34mhttps://github.com/iterative/dvc\u001b[39m\n",
      "\u001b[0m"
     ]
    }
   ],
   "source": [
    "!dvc init -f"
   ]
  },
  {
   "cell_type": "code",
   "execution_count": 2,
   "metadata": {
    "ExecuteTime": {
     "end_time": "2019-06-08T20:11:18.659465Z",
     "start_time": "2019-06-08T20:11:18.613676Z"
    }
   },
   "outputs": [
    {
     "name": "stdout",
     "output_type": "stream",
     "text": [
      "[dvc-tutorial d07f5ce] Initialize DVC\n",
      " 1 file changed, 484 insertions(+), 237 deletions(-)\n"
     ]
    }
   ],
   "source": [
    "%%bash\n",
    "\n",
    "git add .\n",
    "git commit -m \"Initialize DVC\""
   ]
  },
  {
   "cell_type": "markdown",
   "metadata": {},
   "source": [
    "### Files and Directories "
   ]
  },
  {
   "cell_type": "code",
   "execution_count": 3,
   "metadata": {
    "ExecuteTime": {
     "end_time": "2019-06-08T20:11:21.709391Z",
     "start_time": "2019-06-08T20:11:21.583301Z"
    }
   },
   "outputs": [
    {
     "name": "stdout",
     "output_type": "stream",
     "text": [
      "\u001b[1m\u001b[36m.\u001b[m\u001b[m            \u001b[1m\u001b[36m..\u001b[m\u001b[m           .gitignore   \u001b[1m\u001b[36mcache\u001b[m\u001b[m        config       updater.lock\n"
     ]
    }
   ],
   "source": [
    "!ls -a .dvc \n"
   ]
  },
  {
   "cell_type": "code",
   "execution_count": 4,
   "metadata": {
    "ExecuteTime": {
     "end_time": "2019-06-08T20:11:21.993655Z",
     "start_time": "2019-06-08T20:11:21.865587Z"
    }
   },
   "outputs": [
    {
     "name": "stdout",
     "output_type": "stream",
     "text": [
      "/state\n",
      "/lock\n",
      "/config.local\n",
      "/updater\n",
      "/updater.lock\n",
      "/state-journal\n",
      "/state-wal\n",
      "/cache"
     ]
    }
   ],
   "source": [
    "!cat .dvc/.gitignore"
   ]
  },
  {
   "cell_type": "markdown",
   "metadata": {},
   "source": [
    "# Control versions of data"
   ]
  },
  {
   "cell_type": "code",
   "execution_count": 5,
   "metadata": {
    "ExecuteTime": {
     "end_time": "2019-06-08T20:11:25.122385Z",
     "start_time": "2019-06-08T20:11:24.397727Z"
    },
    "scrolled": false
   },
   "outputs": [
    {
     "name": "stdout",
     "output_type": "stream",
     "text": [
      "--2019-06-09 00:03:58--  https://raw.githubusercontent.com/uiuc-cse/data-fa14/gh-pages/data/iris.csv\n",
      "Resolving raw.githubusercontent.com... 151.101.112.133\n",
      "Connecting to raw.githubusercontent.com|151.101.112.133|:443... connected.\n",
      "HTTP request sent, awaiting response... 200 OK\n",
      "Length: 3716 (3.6K) [text/plain]\n",
      "Saving to: ‘data/iris.csv’\n",
      "\n",
      "iris.csv            100%[===================>]   3.63K  --.-KB/s    in 0s      \n",
      "\n",
      "2019-06-09 00:03:58 (50.6 MB/s) - ‘data/iris.csv’ saved [3716/3716]\n",
      "\n",
      "4.0K\tdata/iris.csv\n"
     ]
    }
   ],
   "source": [
    "# Get data \n",
    "\n",
    "!wget -P data/ https://raw.githubusercontent.com/uiuc-cse/data-fa14/gh-pages/data/iris.csv\n",
    "!du -sh data/*"
   ]
  },
  {
   "cell_type": "code",
   "execution_count": 6,
   "metadata": {
    "ExecuteTime": {
     "end_time": "2019-06-08T20:11:27.809990Z",
     "start_time": "2019-06-08T20:11:27.367536Z"
    }
   },
   "outputs": [
    {
     "data": {
      "text/html": [
       "<div>\n",
       "<style scoped>\n",
       "    .dataframe tbody tr th:only-of-type {\n",
       "        vertical-align: middle;\n",
       "    }\n",
       "\n",
       "    .dataframe tbody tr th {\n",
       "        vertical-align: top;\n",
       "    }\n",
       "\n",
       "    .dataframe thead th {\n",
       "        text-align: right;\n",
       "    }\n",
       "</style>\n",
       "<table border=\"1\" class=\"dataframe\">\n",
       "  <thead>\n",
       "    <tr style=\"text-align: right;\">\n",
       "      <th></th>\n",
       "      <th>sepal_length</th>\n",
       "      <th>sepal_width</th>\n",
       "      <th>petal_length</th>\n",
       "      <th>petal_width</th>\n",
       "      <th>species</th>\n",
       "    </tr>\n",
       "  </thead>\n",
       "  <tbody>\n",
       "    <tr>\n",
       "      <th>0</th>\n",
       "      <td>5.1</td>\n",
       "      <td>3.5</td>\n",
       "      <td>1.4</td>\n",
       "      <td>0.2</td>\n",
       "      <td>setosa</td>\n",
       "    </tr>\n",
       "    <tr>\n",
       "      <th>1</th>\n",
       "      <td>4.9</td>\n",
       "      <td>3.0</td>\n",
       "      <td>1.4</td>\n",
       "      <td>0.2</td>\n",
       "      <td>setosa</td>\n",
       "    </tr>\n",
       "    <tr>\n",
       "      <th>2</th>\n",
       "      <td>4.7</td>\n",
       "      <td>3.2</td>\n",
       "      <td>1.3</td>\n",
       "      <td>0.2</td>\n",
       "      <td>setosa</td>\n",
       "    </tr>\n",
       "    <tr>\n",
       "      <th>3</th>\n",
       "      <td>4.6</td>\n",
       "      <td>3.1</td>\n",
       "      <td>1.5</td>\n",
       "      <td>0.2</td>\n",
       "      <td>setosa</td>\n",
       "    </tr>\n",
       "    <tr>\n",
       "      <th>4</th>\n",
       "      <td>5.0</td>\n",
       "      <td>3.6</td>\n",
       "      <td>1.4</td>\n",
       "      <td>0.2</td>\n",
       "      <td>setosa</td>\n",
       "    </tr>\n",
       "  </tbody>\n",
       "</table>\n",
       "</div>"
      ],
      "text/plain": [
       "   sepal_length  sepal_width  petal_length  petal_width species\n",
       "0           5.1          3.5           1.4          0.2  setosa\n",
       "1           4.9          3.0           1.4          0.2  setosa\n",
       "2           4.7          3.2           1.3          0.2  setosa\n",
       "3           4.6          3.1           1.5          0.2  setosa\n",
       "4           5.0          3.6           1.4          0.2  setosa"
      ]
     },
     "execution_count": 6,
     "metadata": {},
     "output_type": "execute_result"
    }
   ],
   "source": [
    "# Look on data\n",
    "\n",
    "import pandas as pd\n",
    "\n",
    "df = pd.read_csv('data/iris.csv')\n",
    "df.head()"
   ]
  },
  {
   "cell_type": "markdown",
   "metadata": {},
   "source": [
    "## Add flle under DVC control"
   ]
  },
  {
   "cell_type": "code",
   "execution_count": 7,
   "metadata": {
    "ExecuteTime": {
     "end_time": "2019-06-08T20:11:35.088620Z",
     "start_time": "2019-06-08T20:11:31.942368Z"
    },
    "scrolled": true
   },
   "outputs": [
    {
     "name": "stdout",
     "output_type": "stream",
     "text": [
      "Adding 'data/iris.csv' to 'data/.gitignore'.\n",
      "Saving 'data/iris.csv' to '.dvc/cache/57/fce90c81521889c736445f058c4838'.\n",
      "Saving information to 'data/iris.csv.dvc'.\n",
      "\n",
      "To track the changes with git run:\n",
      "\n",
      "\tgit add data/.gitignore data/iris.csv.dvc\n",
      "4.0K\tdata/iris.csv\n",
      "4.0K\tdata/iris.csv.dvc\n"
     ]
    }
   ],
   "source": [
    "%%bash\n",
    "\n",
    "dvc add data/iris.csv\n",
    "du -sh data/*"
   ]
  },
  {
   "cell_type": "code",
   "execution_count": 8,
   "metadata": {
    "ExecuteTime": {
     "end_time": "2019-06-08T20:13:09.774317Z",
     "start_time": "2019-06-08T20:13:09.631557Z"
    }
   },
   "outputs": [
    {
     "name": "stdout",
     "output_type": "stream",
     "text": [
      "\u001b[31m??\u001b[m data/.gitignore\n",
      "\u001b[31m??\u001b[m data/iris.csv.dvc\n"
     ]
    }
   ],
   "source": [
    "!git status -s data/"
   ]
  },
  {
   "cell_type": "code",
   "execution_count": 9,
   "metadata": {
    "ExecuteTime": {
     "end_time": "2019-06-08T20:11:35.294319Z",
     "start_time": "2019-06-08T20:11:35.257955Z"
    },
    "scrolled": true
   },
   "outputs": [
    {
     "name": "stdout",
     "output_type": "stream",
     "text": [
      "[dvc-tutorial 2b51aad] Add a source dataset\n",
      " 2 files changed, 9 insertions(+)\n",
      " create mode 100644 data/.gitignore\n",
      " create mode 100644 data/iris.csv.dvc\n"
     ]
    }
   ],
   "source": [
    "%%bash\n",
    "\n",
    "git add .\n",
    "git commit -m \"Add a source dataset\""
   ]
  },
  {
   "cell_type": "markdown",
   "metadata": {},
   "source": [
    "## What is DVC-file?"
   ]
  },
  {
   "cell_type": "markdown",
   "metadata": {},
   "source": [
    "Data file internals\n",
    "\n",
    "\n",
    ">    If you take a look at the DVC-file, you will see that only outputs are defined in outs. \n",
    "    In this file, only one output is defined. The output contains the data file path in the repository and md5 cache.\n",
    "    This md5 cache determines a location of the actual content file in DVC cache directory .dvc/cache\n",
    "    >> Output from DVC-files defines the relationship between the data file path in a repository and the path in a cache directory. See also DVC File Format\n",
    "\n",
    "\n",
    "\n",
    "(c) dvc.org https://dvc.org/doc/tutorial/define-ml-pipeline"
   ]
  },
  {
   "cell_type": "code",
   "execution_count": 10,
   "metadata": {
    "ExecuteTime": {
     "end_time": "2019-06-08T20:13:13.508134Z",
     "start_time": "2019-06-08T20:13:13.381502Z"
    }
   },
   "outputs": [
    {
     "name": "stdout",
     "output_type": "stream",
     "text": [
      "md5: 1cff89878034249db68ba6046d5b49a9\n",
      "wdir: ..\n",
      "outs:\n",
      "- md5: 57fce90c81521889c736445f058c4838\n",
      "  path: data/iris.csv\n",
      "  cache: true\n",
      "  metric: false\n",
      "  persist: false\n"
     ]
    }
   ],
   "source": [
    "!cat data/iris.csv.dvc"
   ]
  },
  {
   "cell_type": "code",
   "execution_count": 11,
   "metadata": {
    "ExecuteTime": {
     "end_time": "2019-06-08T20:13:14.483564Z",
     "start_time": "2019-06-08T20:13:14.356505Z"
    }
   },
   "outputs": [
    {
     "name": "stdout",
     "output_type": "stream",
     "text": [
      "4.0K\t.dvc/cache/57/fce90c81521889c736445f058c4838\n"
     ]
    }
   ],
   "source": [
    "!du -sh .dvc/cache/*/*"
   ]
  },
  {
   "cell_type": "markdown",
   "metadata": {},
   "source": [
    "# Create ML pipeline\n",
    "\n",
    "Stages \n",
    "- extract features \n",
    "- split dataset \n",
    "- train \n",
    "- evaluate \n"
   ]
  },
  {
   "cell_type": "markdown",
   "metadata": {},
   "source": [
    "## Add feature extraction stage"
   ]
  },
  {
   "cell_type": "code",
   "execution_count": 12,
   "metadata": {
    "ExecuteTime": {
     "end_time": "2019-06-08T20:13:23.910716Z",
     "start_time": "2019-06-08T20:13:21.350038Z"
    }
   },
   "outputs": [
    {
     "name": "stdout",
     "output_type": "stream",
     "text": [
      "\u001b[KRunning command:\n",
      "\tpython src/featurization.py\n",
      "\u001b[KAdding 'data/iris_featurized.csv' to 'data/.gitignore'.\n",
      "\u001b[KSaving 'data/iris_featurized.csv' to '.dvc/cache/04/ed69383af337e9dabf934cbc8abc11'.\n",
      "\u001b[KSaving information to 'stage_feature_extraction.dvc'.\n",
      "\u001b[K\n",
      "To track the changes with git run:\n",
      "\n",
      "\tgit add data/.gitignore stage_feature_extraction.dvc\n",
      "\u001b[0m"
     ]
    }
   ],
   "source": [
    "!dvc run -f stage_feature_extraction.dvc \\\n",
    "    -d src/featurization.py \\\n",
    "    -d data/iris.csv \\\n",
    "    -o data/iris_featurized.csv \\\n",
    "    python src/featurization.py"
   ]
  },
  {
   "cell_type": "code",
   "execution_count": 13,
   "metadata": {
    "ExecuteTime": {
     "end_time": "2019-06-08T20:13:24.060266Z",
     "start_time": "2019-06-08T20:13:23.930347Z"
    }
   },
   "outputs": [
    {
     "name": "stdout",
     "output_type": "stream",
     "text": [
      "README.md                    \u001b[1m\u001b[36msrc\u001b[m\u001b[m\n",
      "\u001b[1m\u001b[36mdata\u001b[m\u001b[m                         stage_feature_extraction.dvc\n",
      "requirements.txt             tutorial.ipynb\n"
     ]
    }
   ],
   "source": [
    "!ls "
   ]
  },
  {
   "cell_type": "code",
   "execution_count": 15,
   "metadata": {
    "ExecuteTime": {
     "end_time": "2019-06-08T20:13:24.213131Z",
     "start_time": "2019-06-08T20:13:24.081553Z"
    }
   },
   "outputs": [
    {
     "name": "stdout",
     "output_type": "stream",
     "text": [
      "md5: 7fa7e84ef809dc5478ba9d9291915c71\n",
      "cmd: python src/featurization.py\n",
      "wdir: .\n",
      "deps:\n",
      "- md5: 33729a6a870be74dc3bc2983284a22de\n",
      "  path: src/featurization.py\n",
      "- md5: 57fce90c81521889c736445f058c4838\n",
      "  path: data/iris.csv\n",
      "outs:\n",
      "- md5: 04ed69383af337e9dabf934cbc8abc11\n",
      "  path: data/iris_featurized.csv\n",
      "  cache: true\n",
      "  metric: false\n",
      "  persist: false\n"
     ]
    }
   ],
   "source": [
    "!cat stage_feature_extraction.dvc"
   ]
  },
  {
   "cell_type": "code",
   "execution_count": 14,
   "metadata": {
    "ExecuteTime": {
     "end_time": "2019-06-08T20:13:33.195959Z",
     "start_time": "2019-06-08T20:13:33.182899Z"
    }
   },
   "outputs": [
    {
     "data": {
      "text/html": [
       "<div>\n",
       "<style scoped>\n",
       "    .dataframe tbody tr th:only-of-type {\n",
       "        vertical-align: middle;\n",
       "    }\n",
       "\n",
       "    .dataframe tbody tr th {\n",
       "        vertical-align: top;\n",
       "    }\n",
       "\n",
       "    .dataframe thead th {\n",
       "        text-align: right;\n",
       "    }\n",
       "</style>\n",
       "<table border=\"1\" class=\"dataframe\">\n",
       "  <thead>\n",
       "    <tr style=\"text-align: right;\">\n",
       "      <th></th>\n",
       "      <th>sepal_length</th>\n",
       "      <th>sepal_width</th>\n",
       "      <th>petal_length</th>\n",
       "      <th>petal_width</th>\n",
       "      <th>species</th>\n",
       "    </tr>\n",
       "  </thead>\n",
       "  <tbody>\n",
       "    <tr>\n",
       "      <th>0</th>\n",
       "      <td>5.1</td>\n",
       "      <td>3.5</td>\n",
       "      <td>1.4</td>\n",
       "      <td>0.2</td>\n",
       "      <td>setosa</td>\n",
       "    </tr>\n",
       "    <tr>\n",
       "      <th>1</th>\n",
       "      <td>4.9</td>\n",
       "      <td>3.0</td>\n",
       "      <td>1.4</td>\n",
       "      <td>0.2</td>\n",
       "      <td>setosa</td>\n",
       "    </tr>\n",
       "    <tr>\n",
       "      <th>2</th>\n",
       "      <td>4.7</td>\n",
       "      <td>3.2</td>\n",
       "      <td>1.3</td>\n",
       "      <td>0.2</td>\n",
       "      <td>setosa</td>\n",
       "    </tr>\n",
       "    <tr>\n",
       "      <th>3</th>\n",
       "      <td>4.6</td>\n",
       "      <td>3.1</td>\n",
       "      <td>1.5</td>\n",
       "      <td>0.2</td>\n",
       "      <td>setosa</td>\n",
       "    </tr>\n",
       "    <tr>\n",
       "      <th>4</th>\n",
       "      <td>5.0</td>\n",
       "      <td>3.6</td>\n",
       "      <td>1.4</td>\n",
       "      <td>0.2</td>\n",
       "      <td>setosa</td>\n",
       "    </tr>\n",
       "  </tbody>\n",
       "</table>\n",
       "</div>"
      ],
      "text/plain": [
       "   sepal_length  sepal_width  petal_length  petal_width species\n",
       "0           5.1          3.5           1.4          0.2  setosa\n",
       "1           4.9          3.0           1.4          0.2  setosa\n",
       "2           4.7          3.2           1.3          0.2  setosa\n",
       "3           4.6          3.1           1.5          0.2  setosa\n",
       "4           5.0          3.6           1.4          0.2  setosa"
      ]
     },
     "execution_count": 14,
     "metadata": {},
     "output_type": "execute_result"
    }
   ],
   "source": [
    "import pandas as pd\n",
    "\n",
    "features = pd.read_csv('data/iris_featurized.csv')\n",
    "features.head()"
   ]
  },
  {
   "cell_type": "code",
   "execution_count": 15,
   "metadata": {
    "ExecuteTime": {
     "end_time": "2019-06-08T20:13:36.967447Z",
     "start_time": "2019-06-08T20:13:36.831352Z"
    }
   },
   "outputs": [
    {
     "name": "stdout",
     "output_type": "stream",
     "text": [
      " \u001b[31mM\u001b[m data/.gitignore\n",
      "\u001b[31m??\u001b[m stage_feature_extraction.dvc\n"
     ]
    }
   ],
   "source": [
    "!git status -s"
   ]
  },
  {
   "cell_type": "code",
   "execution_count": 16,
   "metadata": {
    "ExecuteTime": {
     "end_time": "2019-06-08T20:13:43.354268Z",
     "start_time": "2019-06-08T20:13:43.306379Z"
    }
   },
   "outputs": [
    {
     "name": "stdout",
     "output_type": "stream",
     "text": [
      "[dvc-tutorial c871bca] Add stage_features_extraction\n",
      " 2 files changed, 16 insertions(+), 1 deletion(-)\n",
      " create mode 100644 stage_feature_extraction.dvc\n"
     ]
    }
   ],
   "source": [
    "%%bash\n",
    "git add .\n",
    "git commit -m \"Add stage_features_extraction\""
   ]
  },
  {
   "cell_type": "markdown",
   "metadata": {},
   "source": [
    "## Add split train/test stage"
   ]
  },
  {
   "cell_type": "code",
   "execution_count": 17,
   "metadata": {
    "ExecuteTime": {
     "end_time": "2019-06-08T20:13:48.717724Z",
     "start_time": "2019-06-08T20:13:45.819072Z"
    }
   },
   "outputs": [
    {
     "name": "stdout",
     "output_type": "stream",
     "text": [
      "\u001b[KRunning command:\n",
      "\tpython src/split_dataset.py 0.4\n",
      "\u001b[KAdding 'data/train.csv' to 'data/.gitignore'.\n",
      "\u001b[KAdding 'data/test.csv' to 'data/.gitignore'.\n",
      "\u001b[KSaving 'data/train.csv' to '.dvc/cache/3b/7d94d2e2675fb9132c42b1da980794'.\n",
      "\u001b[KSaving 'data/test.csv' to '.dvc/cache/b3/7f00bfd2ce46c61fe744d6d26b41d3'.\n",
      "\u001b[KSaving information to 'stage_split_dataset.dvc'.\n",
      "\u001b[K\n",
      "To track the changes with git run:\n",
      "\n",
      "\tgit add data/.gitignore data/.gitignore stage_split_dataset.dvc\n",
      "\u001b[0m"
     ]
    }
   ],
   "source": [
    "!dvc run -f stage_split_dataset.dvc \\\n",
    "    -d src/split_dataset.py \\\n",
    "    -d data/iris_featurized.csv \\\n",
    "    -o data/train.csv \\\n",
    "    -o data/test.csv \\\n",
    "    python src/split_dataset.py 0.4"
   ]
  },
  {
   "cell_type": "code",
   "execution_count": 18,
   "metadata": {
    "ExecuteTime": {
     "end_time": "2019-06-08T20:13:48.879773Z",
     "start_time": "2019-06-08T20:13:48.749502Z"
    }
   },
   "outputs": [
    {
     "name": "stdout",
     "output_type": "stream",
     "text": [
      "md5: b9a2a7297561e2e1ac5f502eba932072\n",
      "cmd: python src/split_dataset.py 0.4\n",
      "wdir: .\n",
      "deps:\n",
      "- md5: e111aa0fa66588bf06c5f716d11bcff5\n",
      "  path: src/split_dataset.py\n",
      "- md5: 04ed69383af337e9dabf934cbc8abc11\n",
      "  path: data/iris_featurized.csv\n",
      "outs:\n",
      "- md5: 3b7d94d2e2675fb9132c42b1da980794\n",
      "  path: data/train.csv\n",
      "  cache: true\n",
      "  metric: false\n",
      "  persist: false\n",
      "- md5: b37f00bfd2ce46c61fe744d6d26b41d3\n",
      "  path: data/test.csv\n",
      "  cache: true\n",
      "  metric: false\n",
      "  persist: false\n"
     ]
    }
   ],
   "source": [
    "!cat stage_split_dataset.dvc"
   ]
  },
  {
   "cell_type": "markdown",
   "metadata": {},
   "source": [
    "## Add train stage"
   ]
  },
  {
   "cell_type": "code",
   "execution_count": 19,
   "metadata": {
    "ExecuteTime": {
     "end_time": "2019-06-08T20:13:51.713572Z",
     "start_time": "2019-06-08T20:13:48.910768Z"
    }
   },
   "outputs": [
    {
     "name": "stdout",
     "output_type": "stream",
     "text": [
      "\u001b[KRunning command:\n",
      "\tpython src/train.py\n",
      "\u001b[KAdding 'data/model.joblib' to 'data/.gitignore'.\n",
      "\u001b[KSaving 'data/model.joblib' to '.dvc/cache/d6/31150e260de432a811bfe7dd8935ec'.\n",
      "\u001b[KSaving information to 'stage_train.dvc'.\n",
      "\u001b[K\n",
      "To track the changes with git run:\n",
      "\n",
      "\tgit add data/.gitignore stage_train.dvc\n",
      "\u001b[0m"
     ]
    }
   ],
   "source": [
    "!dvc run -f stage_train.dvc \\\n",
    "    -d src/train.py \\\n",
    "    -d data/train.csv \\\n",
    "    -o data/model.joblib \\\n",
    "    python src/train.py"
   ]
  },
  {
   "cell_type": "code",
   "execution_count": 20,
   "metadata": {
    "ExecuteTime": {
     "end_time": "2019-06-08T20:13:51.869094Z",
     "start_time": "2019-06-08T20:13:51.742559Z"
    }
   },
   "outputs": [
    {
     "name": "stdout",
     "output_type": "stream",
     "text": [
      "md5: 1409d57473a56f42048a84c797dbbec5\n",
      "cmd: python src/train.py\n",
      "wdir: .\n",
      "deps:\n",
      "- md5: 025acbe1552887fab33f5314d036e907\n",
      "  path: src/train.py\n",
      "- md5: 3b7d94d2e2675fb9132c42b1da980794\n",
      "  path: data/train.csv\n",
      "outs:\n",
      "- md5: d631150e260de432a811bfe7dd8935ec\n",
      "  path: data/model.joblib\n",
      "  cache: true\n",
      "  metric: false\n",
      "  persist: false\n"
     ]
    }
   ],
   "source": [
    "!cat stage_train.dvc"
   ]
  },
  {
   "cell_type": "markdown",
   "metadata": {},
   "source": [
    "### Add evaluate stage"
   ]
  },
  {
   "cell_type": "code",
   "execution_count": 22,
   "metadata": {
    "ExecuteTime": {
     "end_time": "2019-06-08T20:13:56.506495Z",
     "start_time": "2019-06-08T20:13:53.835798Z"
    }
   },
   "outputs": [
    {
     "name": "stdout",
     "output_type": "stream",
     "text": [
      "\u001b[K\u001b[33mWARNING\u001b[39m: data 'data/eval.txt' exists. Removing before checkout.\n",
      "\u001b[KStage is cached, skipping.\n",
      "\u001b[0m"
     ]
    }
   ],
   "source": [
    "!dvc run -f stage_evaluate.dvc \\\n",
    "    -d src/train.py \\\n",
    "    -d src/evaluate.py \\\n",
    "    -d data/test.csv \\\n",
    "    -d data/model.joblib \\\n",
    "    -m data/eval.txt \\\n",
    "    python src/evaluate.py"
   ]
  },
  {
   "cell_type": "code",
   "execution_count": 23,
   "metadata": {
    "ExecuteTime": {
     "end_time": "2019-06-08T20:13:58.978932Z",
     "start_time": "2019-06-08T20:13:58.851474Z"
    }
   },
   "outputs": [
    {
     "name": "stdout",
     "output_type": "stream",
     "text": [
      "md5: 2c5f02b139310b839b97f2a093b802b9\n",
      "cmd: python src/evaluate.py\n",
      "wdir: .\n",
      "deps:\n",
      "- md5: 025acbe1552887fab33f5314d036e907\n",
      "  path: src/train.py\n",
      "- md5: 9b394d26e9427759256195b47917028b\n",
      "  path: src/evaluate.py\n",
      "- md5: b37f00bfd2ce46c61fe744d6d26b41d3\n",
      "  path: data/test.csv\n",
      "- md5: d631150e260de432a811bfe7dd8935ec\n",
      "  path: data/model.joblib\n",
      "outs:\n",
      "- md5: 1f7764d988d8d251dc3e9b1c5419f58b\n",
      "  path: data/eval.txt\n",
      "  cache: true\n",
      "  metric: true\n",
      "  persist: false\n"
     ]
    }
   ],
   "source": [
    "!cat stage_evaluate.dvc"
   ]
  },
  {
   "cell_type": "markdown",
   "metadata": {},
   "source": [
    "# Metrics tracking"
   ]
  },
  {
   "cell_type": "code",
   "execution_count": 24,
   "metadata": {
    "ExecuteTime": {
     "end_time": "2019-06-08T20:14:03.070683Z",
     "start_time": "2019-06-08T20:14:01.629251Z"
    },
    "scrolled": false
   },
   "outputs": [
    {
     "name": "stdout",
     "output_type": "stream",
     "text": [
      "\u001b[K\tdata/eval.txt: {\"f1_score\": 0.7861833464670345, \"confusion_matrix\": {\"classes\": [\"setosa\", \"versicolor\", \"virginica\"], \"matrix\": [[23, 0, 0], [0, 8, 0], [0, 11, 18]]}}\n",
      "\u001b[0m"
     ]
    }
   ],
   "source": [
    "!dvc metrics show"
   ]
  },
  {
   "cell_type": "markdown",
   "metadata": {},
   "source": [
    "## Commit dvc pipelines"
   ]
  },
  {
   "cell_type": "code",
   "execution_count": 25,
   "metadata": {
    "ExecuteTime": {
     "end_time": "2019-06-08T20:14:17.103622Z",
     "start_time": "2019-06-08T20:14:16.969324Z"
    }
   },
   "outputs": [
    {
     "name": "stdout",
     "output_type": "stream",
     "text": [
      " \u001b[31mM\u001b[m data/.gitignore\n",
      " \u001b[31mM\u001b[m tutorial.ipynb\n",
      "\u001b[31m??\u001b[m stage_evaluate.dvc\n",
      "\u001b[31m??\u001b[m stage_split_dataset.dvc\n",
      "\u001b[31m??\u001b[m stage_train.dvc\n"
     ]
    }
   ],
   "source": [
    "!git status -s"
   ]
  },
  {
   "cell_type": "code",
   "execution_count": 26,
   "metadata": {
    "ExecuteTime": {
     "end_time": "2019-06-08T20:14:17.454436Z",
     "start_time": "2019-06-08T20:14:17.415664Z"
    },
    "scrolled": true
   },
   "outputs": [
    {
     "name": "stdout",
     "output_type": "stream",
     "text": [
      "[dvc-tutorial 6b7e36c] Add pipelines\n",
      " 5 files changed, 192 insertions(+), 158 deletions(-)\n",
      " create mode 100644 stage_evaluate.dvc\n",
      " create mode 100644 stage_split_dataset.dvc\n",
      " create mode 100644 stage_train.dvc\n"
     ]
    }
   ],
   "source": [
    "%%bash\n",
    "git add .\n",
    "git commit -m \"Add pipelines\""
   ]
  },
  {
   "cell_type": "code",
   "execution_count": null,
   "metadata": {},
   "outputs": [],
   "source": []
  },
  {
   "cell_type": "markdown",
   "metadata": {},
   "source": [
    "# Reproducibility"
   ]
  },
  {
   "cell_type": "markdown",
   "metadata": {},
   "source": [
    "## How does it work?"
   ]
  },
  {
   "cell_type": "markdown",
   "metadata": {},
   "source": [
    "> The most exciting part of DVC is reproducibility.\n",
    ">> Reproducibility is the time you are getting benefits out of DVC instead of spending time defining the ML pipelines.\n",
    "\n",
    "> DVC tracks all the dependencies, which helps you iterate on ML models faster without thinking what was affected by your last change.\n",
    ">> In order to track all the dependencies, DVC finds and reads ALL the DVC-files in a repository and builds a dependency graph (DAG) based on these files.\n",
    "\n",
    "> This is one of the differences between DVC reproducibility and traditional Makefile-like build automation tools (Make, Maven, Ant, Rakefile etc). It was designed in such a way to localize specification of DAG nodes.\n",
    "If you run repro on any created DVC-file from our repository, nothing happens because nothing was changed in the defined pipeline.\n",
    "\n",
    "(c) dvc.org https://dvc.org/doc/tutorial/reproducibility"
   ]
  },
  {
   "cell_type": "code",
   "execution_count": 27,
   "metadata": {
    "ExecuteTime": {
     "end_time": "2019-06-08T20:14:24.123500Z",
     "start_time": "2019-06-08T20:14:22.647965Z"
    }
   },
   "outputs": [
    {
     "name": "stdout",
     "output_type": "stream",
     "text": [
      "\u001b[KStage 'data/iris.csv.dvc' didn't change.\n",
      "\u001b[KStage 'stage_feature_extraction.dvc' didn't change.\n",
      "\u001b[KStage 'stage_split_dataset.dvc' didn't change.\n",
      "\u001b[KStage 'stage_train.dvc' didn't change.\n",
      "\u001b[KStage 'stage_evaluate.dvc' didn't change.\n",
      "\u001b[KPipeline is up to date. Nothing to reproduce.\n",
      "\u001b[0m"
     ]
    }
   ],
   "source": [
    "# Nothing to reproduce\n",
    "!dvc repro stage_evaluate.dvc"
   ]
  },
  {
   "cell_type": "markdown",
   "metadata": {},
   "source": [
    "## Add features\n",
    "\n"
   ]
  },
  {
   "cell_type": "markdown",
   "metadata": {},
   "source": [
    "### Create new experiment branch\n",
    "\n",
    "Before editing the code/featurization.py file, please create and checkout a new branch __ratio_features__"
   ]
  },
  {
   "cell_type": "code",
   "execution_count": 28,
   "metadata": {
    "ExecuteTime": {
     "end_time": "2019-06-08T20:22:04.995637Z",
     "start_time": "2019-06-08T20:22:04.827590Z"
    }
   },
   "outputs": [
    {
     "name": "stdout",
     "output_type": "stream",
     "text": [
      "Switched to a new branch 'ratio_features'\n"
     ]
    }
   ],
   "source": [
    "# create new branch\n",
    "\n",
    "! git checkout -b ratio_features"
   ]
  },
  {
   "cell_type": "code",
   "execution_count": 29,
   "metadata": {},
   "outputs": [
    {
     "name": "stdout",
     "output_type": "stream",
     "text": [
      "  dvc-tutorial\u001b[m\n",
      "  master\u001b[m\n",
      "* \u001b[32mratio_features\u001b[m\n"
     ]
    }
   ],
   "source": [
    "!git branch"
   ]
  },
  {
   "cell_type": "markdown",
   "metadata": {},
   "source": [
    "### Update featurization.py"
   ]
  },
  {
   "cell_type": "markdown",
   "metadata": {},
   "source": [
    "in file __featurization.py__ uncomment lines \n",
    "\n",
    "    features['sepal_length_to_sepal_width'] = features['sepal_length'] / features['sepal_width']\n",
    "    features['petal_length_to_petal_width'] = features['petal_length'] / features['petal_width']"
   ]
  },
  {
   "cell_type": "markdown",
   "metadata": {},
   "source": [
    "## Reproduce pipeline "
   ]
  },
  {
   "cell_type": "code",
   "execution_count": 32,
   "metadata": {
    "ExecuteTime": {
     "end_time": "2019-06-08T20:23:46.887134Z",
     "start_time": "2019-06-08T20:23:41.548446Z"
    },
    "scrolled": true
   },
   "outputs": [
    {
     "name": "stdout",
     "output_type": "stream",
     "text": [
      "\u001b[KStage 'data/iris.csv.dvc' didn't change.\n",
      "\u001b[K\u001b[33mWARNING\u001b[39m: Dependency 'src/featurization.py' of 'stage_feature_extraction.dvc' changed because it is 'modified'.\n",
      "\u001b[K\u001b[33mWARNING\u001b[39m: Stage 'stage_feature_extraction.dvc' changed.\n",
      "\u001b[KReproducing 'stage_feature_extraction.dvc'\n",
      "\u001b[KRunning command:\n",
      "\tpython src/featurization.py\n",
      "\u001b[KSaving 'data/iris_featurized.csv' to '.dvc/cache/cd/9e208c0232da2fb80b4c927da35dbb'.\n",
      "\u001b[KSaving information to 'stage_feature_extraction.dvc'.\n",
      "\u001b[K\u001b[33mWARNING\u001b[39m: Dependency 'data/iris_featurized.csv' of 'stage_split_dataset.dvc' changed because it is 'modified'.\n",
      "\u001b[K\u001b[33mWARNING\u001b[39m: Stage 'stage_split_dataset.dvc' changed.\n",
      "\u001b[KReproducing 'stage_split_dataset.dvc'\n",
      "\u001b[KRunning command:\n",
      "\tpython src/split_dataset.py 0.4\n",
      "\u001b[KSaving 'data/train.csv' to '.dvc/cache/87/43ef62798f623fbaae4401f4aab654'.\n",
      "\u001b[KSaving 'data/test.csv' to '.dvc/cache/3d/40f0c85187dda2cd9bf58b3e916630'.\n",
      "\u001b[KSaving information to 'stage_split_dataset.dvc'.\n",
      "\u001b[K\u001b[33mWARNING\u001b[39m: Dependency 'data/train.csv' of 'stage_train.dvc' changed because it is 'modified'.\n",
      "\u001b[K\u001b[33mWARNING\u001b[39m: Stage 'stage_train.dvc' changed.\n",
      "\u001b[KReproducing 'stage_train.dvc'\n",
      "\u001b[KRunning command:\n",
      "\tpython src/train.py\n",
      "\u001b[KSaving 'data/model.joblib' to '.dvc/cache/d7/bb60e8f731671aa212cf137c6f1e52'.\n",
      "\u001b[KSaving information to 'stage_train.dvc'.\n",
      "\u001b[K\u001b[33mWARNING\u001b[39m: Dependency 'data/test.csv' of 'stage_evaluate.dvc' changed because it is 'modified'.\n",
      "\u001b[K\u001b[33mWARNING\u001b[39m: Stage 'stage_evaluate.dvc' changed.\n",
      "\u001b[KReproducing 'stage_evaluate.dvc'\n",
      "\u001b[KRunning command:\n",
      "\tpython src/evaluate.py\n",
      "\u001b[KSaving 'data/eval.txt' to '.dvc/cache/ef/d3a0fee43c80da52d807308c56843b'.\n",
      "\u001b[KSaving information to 'stage_evaluate.dvc'.\n",
      "\u001b[K\n",
      "To track the changes with git run:\n",
      "\n",
      "\tgit add stage_feature_extraction.dvc stage_split_dataset.dvc stage_train.dvc stage_evaluate.dvc\n",
      "\u001b[0m"
     ]
    }
   ],
   "source": [
    "!dvc repro stage_evaluate.dvc"
   ]
  },
  {
   "cell_type": "code",
   "execution_count": 33,
   "metadata": {
    "ExecuteTime": {
     "end_time": "2019-06-08T20:23:57.618521Z",
     "start_time": "2019-06-08T20:23:57.604872Z"
    }
   },
   "outputs": [
    {
     "data": {
      "text/html": [
       "<div>\n",
       "<style scoped>\n",
       "    .dataframe tbody tr th:only-of-type {\n",
       "        vertical-align: middle;\n",
       "    }\n",
       "\n",
       "    .dataframe tbody tr th {\n",
       "        vertical-align: top;\n",
       "    }\n",
       "\n",
       "    .dataframe thead th {\n",
       "        text-align: right;\n",
       "    }\n",
       "</style>\n",
       "<table border=\"1\" class=\"dataframe\">\n",
       "  <thead>\n",
       "    <tr style=\"text-align: right;\">\n",
       "      <th></th>\n",
       "      <th>sepal_length</th>\n",
       "      <th>sepal_width</th>\n",
       "      <th>petal_length</th>\n",
       "      <th>petal_width</th>\n",
       "      <th>species</th>\n",
       "      <th>sepal_length_to_sepal_width</th>\n",
       "      <th>petal_length_to_petal_width</th>\n",
       "    </tr>\n",
       "  </thead>\n",
       "  <tbody>\n",
       "    <tr>\n",
       "      <th>0</th>\n",
       "      <td>5.1</td>\n",
       "      <td>3.5</td>\n",
       "      <td>1.4</td>\n",
       "      <td>0.2</td>\n",
       "      <td>setosa</td>\n",
       "      <td>1.457143</td>\n",
       "      <td>7.0</td>\n",
       "    </tr>\n",
       "    <tr>\n",
       "      <th>1</th>\n",
       "      <td>4.9</td>\n",
       "      <td>3.0</td>\n",
       "      <td>1.4</td>\n",
       "      <td>0.2</td>\n",
       "      <td>setosa</td>\n",
       "      <td>1.633333</td>\n",
       "      <td>7.0</td>\n",
       "    </tr>\n",
       "    <tr>\n",
       "      <th>2</th>\n",
       "      <td>4.7</td>\n",
       "      <td>3.2</td>\n",
       "      <td>1.3</td>\n",
       "      <td>0.2</td>\n",
       "      <td>setosa</td>\n",
       "      <td>1.468750</td>\n",
       "      <td>6.5</td>\n",
       "    </tr>\n",
       "    <tr>\n",
       "      <th>3</th>\n",
       "      <td>4.6</td>\n",
       "      <td>3.1</td>\n",
       "      <td>1.5</td>\n",
       "      <td>0.2</td>\n",
       "      <td>setosa</td>\n",
       "      <td>1.483871</td>\n",
       "      <td>7.5</td>\n",
       "    </tr>\n",
       "    <tr>\n",
       "      <th>4</th>\n",
       "      <td>5.0</td>\n",
       "      <td>3.6</td>\n",
       "      <td>1.4</td>\n",
       "      <td>0.2</td>\n",
       "      <td>setosa</td>\n",
       "      <td>1.388889</td>\n",
       "      <td>7.0</td>\n",
       "    </tr>\n",
       "  </tbody>\n",
       "</table>\n",
       "</div>"
      ],
      "text/plain": [
       "   sepal_length  sepal_width  petal_length  petal_width species  \\\n",
       "0           5.1          3.5           1.4          0.2  setosa   \n",
       "1           4.9          3.0           1.4          0.2  setosa   \n",
       "2           4.7          3.2           1.3          0.2  setosa   \n",
       "3           4.6          3.1           1.5          0.2  setosa   \n",
       "4           5.0          3.6           1.4          0.2  setosa   \n",
       "\n",
       "   sepal_length_to_sepal_width  petal_length_to_petal_width  \n",
       "0                     1.457143                          7.0  \n",
       "1                     1.633333                          7.0  \n",
       "2                     1.468750                          6.5  \n",
       "3                     1.483871                          7.5  \n",
       "4                     1.388889                          7.0  "
      ]
     },
     "execution_count": 33,
     "metadata": {},
     "output_type": "execute_result"
    }
   ],
   "source": [
    "# Check features used in this pipeline\n",
    "\n",
    "import pandas as pd\n",
    "\n",
    "features = pd.read_csv('data/iris_featurized.csv')\n",
    "features.head()"
   ]
  },
  {
   "cell_type": "markdown",
   "metadata": {},
   "source": [
    "## Compare metrics for all runs (experiments)"
   ]
  },
  {
   "cell_type": "code",
   "execution_count": 34,
   "metadata": {
    "ExecuteTime": {
     "end_time": "2019-06-08T20:24:02.264429Z",
     "start_time": "2019-06-08T20:24:00.784223Z"
    }
   },
   "outputs": [
    {
     "name": "stdout",
     "output_type": "stream",
     "text": [
      "\u001b[K\tdata/eval.txt: {\"f1_score\": 0.8084886128364389, \"confusion_matrix\": {\"classes\": [\"setosa\", \"versicolor\", \"virginica\"], \"matrix\": [[23, 0, 0], [0, 9, 0], [0, 10, 18]]}}\n",
      "\u001b[0m"
     ]
    }
   ],
   "source": [
    "# this pipeline metrics \n",
    "\n",
    "!dvc metrics show"
   ]
  },
  {
   "cell_type": "code",
   "execution_count": 35,
   "metadata": {
    "ExecuteTime": {
     "end_time": "2019-06-08T20:24:03.971834Z",
     "start_time": "2019-06-08T20:24:02.294914Z"
    },
    "scrolled": true
   },
   "outputs": [
    {
     "name": "stdout",
     "output_type": "stream",
     "text": [
      "\u001b[KWorking Tree:\n",
      "\u001b[K\tdata/eval.txt: {\"f1_score\": 0.8084886128364389, \"confusion_matrix\": {\"classes\": [\"setosa\", \"versicolor\", \"virginica\"], \"matrix\": [[23, 0, 0], [0, 9, 0], [0, 10, 18]]}}\n",
      "\u001b[Kdvc-tutorial:\n",
      "\u001b[K\tdata/eval.txt: {\"f1_score\": 0.7861833464670345, \"confusion_matrix\": {\"classes\": [\"setosa\", \"versicolor\", \"virginica\"], \"matrix\": [[23, 0, 0], [0, 8, 0], [0, 11, 18]]}}\n",
      "\u001b[Kratio_features:\n",
      "\u001b[K\tdata/eval.txt: {\"f1_score\": 0.7861833464670345, \"confusion_matrix\": {\"classes\": [\"setosa\", \"versicolor\", \"virginica\"], \"matrix\": [[23, 0, 0], [0, 8, 0], [0, 11, 18]]}}\n",
      "\u001b[0m"
     ]
    }
   ],
   "source": [
    "# show all commited pipelines metrics \n",
    "\n",
    "!dvc metrics show -a"
   ]
  },
  {
   "cell_type": "markdown",
   "metadata": {},
   "source": [
    "## Commit new results"
   ]
  },
  {
   "cell_type": "code",
   "execution_count": 36,
   "metadata": {
    "ExecuteTime": {
     "end_time": "2019-06-08T20:24:11.530799Z",
     "start_time": "2019-06-08T20:24:11.397766Z"
    },
    "scrolled": true
   },
   "outputs": [
    {
     "name": "stdout",
     "output_type": "stream",
     "text": [
      " \u001b[31mM\u001b[m src/featurization.py\n",
      " \u001b[31mM\u001b[m stage_evaluate.dvc\n",
      " \u001b[31mM\u001b[m stage_feature_extraction.dvc\n",
      " \u001b[31mM\u001b[m stage_split_dataset.dvc\n",
      " \u001b[31mM\u001b[m stage_train.dvc\n",
      " \u001b[31mM\u001b[m tutorial.ipynb\n",
      "\u001b[31m??\u001b[m src/.ipynb_checkpoints/\n"
     ]
    }
   ],
   "source": [
    "!git status -s"
   ]
  },
  {
   "cell_type": "code",
   "execution_count": 38,
   "metadata": {
    "ExecuteTime": {
     "end_time": "2019-06-08T20:24:11.960815Z",
     "start_time": "2019-06-08T20:24:11.685959Z"
    },
    "scrolled": true
   },
   "outputs": [
    {
     "name": "stdout",
     "output_type": "stream",
     "text": [
      "On branch ratio_features\n",
      "nothing to commit, working tree clean\n"
     ]
    }
   ],
   "source": [
    "!git add .\n",
    "!git commit -m \"New features experiment\""
   ]
  },
  {
   "cell_type": "markdown",
   "metadata": {},
   "source": [
    "# Checkout (start over new experiment)\n",
    "\n",
    "- in case new features doesn't result improvements \n",
    "- or we want to improve the model by changing the hyperparameters (with OLD dataset)"
   ]
  },
  {
   "cell_type": "markdown",
   "metadata": {},
   "source": [
    "## Checkout code and data files "
   ]
  },
  {
   "cell_type": "code",
   "execution_count": 41,
   "metadata": {
    "ExecuteTime": {
     "end_time": "2019-06-08T20:24:18.369187Z",
     "start_time": "2019-06-08T20:24:15.365118Z"
    },
    "scrolled": true
   },
   "outputs": [
    {
     "name": "stdout",
     "output_type": "stream",
     "text": [
      "WARNING: data 'data/eval.txt' exists. Removing before checkout.\n",
      "WARNING: data 'data/train.csv' exists. Removing before checkout.\n",
      "WARNING: data 'data/test.csv' exists. Removing before checkout.\n",
      "WARNING: data 'data/model.joblib' exists. Removing before checkout.\n",
      "WARNING: data 'data/iris_featurized.csv' exists. Removing before checkout.\n",
      "[##############################] 100% Checkout finished!\n"
     ]
    },
    {
     "name": "stderr",
     "output_type": "stream",
     "text": [
      "Switched to branch 'dvc-tutorial'\n"
     ]
    }
   ],
   "source": [
    "%%bash\n",
    "\n",
    "git checkout dvc-tutorial\n",
    "dvc checkout"
   ]
  },
  {
   "cell_type": "code",
   "execution_count": 46,
   "metadata": {
    "ExecuteTime": {
     "end_time": "2019-06-08T20:24:19.983162Z",
     "start_time": "2019-06-08T20:24:19.852434Z"
    }
   },
   "outputs": [
    {
     "name": "stdout",
     "output_type": "stream",
     "text": [
      "* \u001b[32mdvc-tutorial\u001b[m\n",
      "  master\u001b[m\n",
      "  ratio_features\u001b[m\n"
     ]
    }
   ],
   "source": [
    "!git branch"
   ]
  },
  {
   "cell_type": "code",
   "execution_count": 47,
   "metadata": {
    "ExecuteTime": {
     "end_time": "2019-06-08T20:18:20.033775Z",
     "start_time": "2019-06-08T20:18:18.209584Z"
    }
   },
   "outputs": [
    {
     "name": "stdout",
     "output_type": "stream",
     "text": [
      "\u001b[K\tdata/eval.txt: {\"f1_score\": 0.7861833464670345, \"confusion_matrix\": {\"classes\": [\"setosa\", \"versicolor\", \"virginica\"], \"matrix\": [[23, 0, 0], [0, 8, 0], [0, 11, 18]]}}\n",
      "\u001b[0m"
     ]
    }
   ],
   "source": [
    "!dvc metrics show"
   ]
  },
  {
   "cell_type": "code",
   "execution_count": 49,
   "metadata": {
    "ExecuteTime": {
     "end_time": "2019-06-08T19:33:16.886023Z",
     "start_time": "2019-06-08T19:33:15.178167Z"
    }
   },
   "outputs": [
    {
     "name": "stdout",
     "output_type": "stream",
     "text": [
      "\u001b[KStage 'data/iris.csv.dvc' didn't change.\n",
      "\u001b[KStage 'stage_feature_extraction.dvc' didn't change.\n",
      "\u001b[KStage 'stage_split_dataset.dvc' didn't change.\n",
      "\u001b[KStage 'stage_train.dvc' didn't change.\n",
      "\u001b[KStage 'stage_evaluate.dvc' didn't change.\n",
      "\u001b[KPipeline is up to date. Nothing to reproduce.\n",
      "\u001b[0m"
     ]
    }
   ],
   "source": [
    "# Nothing to reproduce since code was checked out by `git checkout`\n",
    "# and data files were checked out by `dvc checkout`\n",
    "!dvc repro stage_evaluate.dvc"
   ]
  },
  {
   "cell_type": "code",
   "execution_count": 51,
   "metadata": {
    "ExecuteTime": {
     "end_time": "2019-06-08T19:33:18.630215Z",
     "start_time": "2019-06-08T19:33:16.917501Z"
    }
   },
   "outputs": [
    {
     "name": "stdout",
     "output_type": "stream",
     "text": [
      "\u001b[K\tdata/eval.txt: {\"f1_score\": 0.7861833464670345, \"confusion_matrix\": {\"classes\": [\"setosa\", \"versicolor\", \"virginica\"], \"matrix\": [[23, 0, 0], [0, 8, 0], [0, 11, 18]]}}\n",
      "\u001b[0m"
     ]
    }
   ],
   "source": [
    "!dvc metrics show"
   ]
  },
  {
   "cell_type": "code",
   "execution_count": 52,
   "metadata": {
    "ExecuteTime": {
     "end_time": "2019-06-08T19:33:19.507076Z",
     "start_time": "2019-06-08T19:33:19.491956Z"
    }
   },
   "outputs": [
    {
     "data": {
      "text/html": [
       "<div>\n",
       "<style scoped>\n",
       "    .dataframe tbody tr th:only-of-type {\n",
       "        vertical-align: middle;\n",
       "    }\n",
       "\n",
       "    .dataframe tbody tr th {\n",
       "        vertical-align: top;\n",
       "    }\n",
       "\n",
       "    .dataframe thead th {\n",
       "        text-align: right;\n",
       "    }\n",
       "</style>\n",
       "<table border=\"1\" class=\"dataframe\">\n",
       "  <thead>\n",
       "    <tr style=\"text-align: right;\">\n",
       "      <th></th>\n",
       "      <th>sepal_length</th>\n",
       "      <th>sepal_width</th>\n",
       "      <th>petal_length</th>\n",
       "      <th>petal_width</th>\n",
       "      <th>species</th>\n",
       "    </tr>\n",
       "  </thead>\n",
       "  <tbody>\n",
       "    <tr>\n",
       "      <th>0</th>\n",
       "      <td>5.1</td>\n",
       "      <td>3.5</td>\n",
       "      <td>1.4</td>\n",
       "      <td>0.2</td>\n",
       "      <td>setosa</td>\n",
       "    </tr>\n",
       "    <tr>\n",
       "      <th>1</th>\n",
       "      <td>4.9</td>\n",
       "      <td>3.0</td>\n",
       "      <td>1.4</td>\n",
       "      <td>0.2</td>\n",
       "      <td>setosa</td>\n",
       "    </tr>\n",
       "    <tr>\n",
       "      <th>2</th>\n",
       "      <td>4.7</td>\n",
       "      <td>3.2</td>\n",
       "      <td>1.3</td>\n",
       "      <td>0.2</td>\n",
       "      <td>setosa</td>\n",
       "    </tr>\n",
       "    <tr>\n",
       "      <th>3</th>\n",
       "      <td>4.6</td>\n",
       "      <td>3.1</td>\n",
       "      <td>1.5</td>\n",
       "      <td>0.2</td>\n",
       "      <td>setosa</td>\n",
       "    </tr>\n",
       "    <tr>\n",
       "      <th>4</th>\n",
       "      <td>5.0</td>\n",
       "      <td>3.6</td>\n",
       "      <td>1.4</td>\n",
       "      <td>0.2</td>\n",
       "      <td>setosa</td>\n",
       "    </tr>\n",
       "  </tbody>\n",
       "</table>\n",
       "</div>"
      ],
      "text/plain": [
       "   sepal_length  sepal_width  petal_length  petal_width species\n",
       "0           5.1          3.5           1.4          0.2  setosa\n",
       "1           4.9          3.0           1.4          0.2  setosa\n",
       "2           4.7          3.2           1.3          0.2  setosa\n",
       "3           4.6          3.1           1.5          0.2  setosa\n",
       "4           5.0          3.6           1.4          0.2  setosa"
      ]
     },
     "execution_count": 52,
     "metadata": {},
     "output_type": "execute_result"
    }
   ],
   "source": [
    "# Check features used in this pipeline\n",
    "\n",
    "import pandas as pd\n",
    "\n",
    "features = pd.read_csv('data/iris_featurized.csv')\n",
    "features.head()"
   ]
  },
  {
   "cell_type": "markdown",
   "metadata": {},
   "source": [
    "## Tune the model"
   ]
  },
  {
   "cell_type": "code",
   "execution_count": 53,
   "metadata": {
    "ExecuteTime": {
     "end_time": "2019-06-08T20:25:26.334491Z",
     "start_time": "2019-06-08T20:25:26.068716Z"
    }
   },
   "outputs": [
    {
     "name": "stdout",
     "output_type": "stream",
     "text": [
      "M\ttutorial.ipynb\n",
      "Switched to a new branch 'tuning'\n",
      "  dvc-tutorial\u001b[m\n",
      "  master\u001b[m\n",
      "  ratio_features\u001b[m\n",
      "* \u001b[32mtuning\u001b[m\n"
     ]
    }
   ],
   "source": [
    "# create new branch for experiment\n",
    "\n",
    "!git checkout -b tuning\n",
    "!git branch"
   ]
  },
  {
   "cell_type": "markdown",
   "metadata": {},
   "source": [
    "### Change parameters of classifier (LogisticRegression)\n",
    "\n",
    "in file __train.py__ in constructor of LogisticRegression:\n",
    "\n",
    "* change C param to 0.1\n",
    "\n",
    "in the end you should get such constructor of classifier:\n",
    "\n",
    "```python\n",
    "clf = LogisticRegression(C=0.1, solver='newton-cg', multi_class='multinomial', max_iter=100)\n",
    "```"
   ]
  },
  {
   "cell_type": "markdown",
   "metadata": {},
   "source": [
    "### Reproduce pipelines"
   ]
  },
  {
   "cell_type": "code",
   "execution_count": 54,
   "metadata": {
    "ExecuteTime": {
     "end_time": "2019-06-08T20:26:06.169908Z",
     "start_time": "2019-06-08T20:26:02.177766Z"
    },
    "scrolled": false
   },
   "outputs": [
    {
     "name": "stdout",
     "output_type": "stream",
     "text": [
      "\u001b[KStage 'data/iris.csv.dvc' didn't change.\n",
      "\u001b[KStage 'stage_feature_extraction.dvc' didn't change.\n",
      "\u001b[KStage 'stage_split_dataset.dvc' didn't change.\n",
      "\u001b[K\u001b[33mWARNING\u001b[39m: Dependency 'src/train.py' of 'stage_train.dvc' changed because it is 'modified'.\n",
      "\u001b[K\u001b[33mWARNING\u001b[39m: Stage 'stage_train.dvc' changed.\n",
      "\u001b[KReproducing 'stage_train.dvc'\n",
      "\u001b[KRunning command:\n",
      "\tpython src/train.py\n",
      "\u001b[KSaving 'data/model.joblib' to '.dvc/cache/be/122f7e293f77f4f636345868dd57c2'.\n",
      "\u001b[KSaving information to 'stage_train.dvc'.\n",
      "\u001b[K\u001b[33mWARNING\u001b[39m: Dependency 'src/train.py' of 'stage_evaluate.dvc' changed because it is 'modified'.\n",
      "\u001b[K\u001b[33mWARNING\u001b[39m: Stage 'stage_evaluate.dvc' changed.\n",
      "\u001b[KReproducing 'stage_evaluate.dvc'\n",
      "\u001b[KRunning command:\n",
      "\tpython src/evaluate.py\n",
      "\u001b[KSaving 'data/eval.txt' to '.dvc/cache/04/a34aa507199d5f1f5c73a841a76463'.\n",
      "\u001b[KSaving information to 'stage_evaluate.dvc'.\n",
      "\u001b[K\n",
      "To track the changes with git run:\n",
      "\n",
      "\tgit add stage_train.dvc stage_evaluate.dvc\n",
      "\u001b[0m"
     ]
    }
   ],
   "source": [
    "# re-run pipeline \n",
    "\n",
    "!dvc repro stage_evaluate.dvc "
   ]
  },
  {
   "cell_type": "code",
   "execution_count": 55,
   "metadata": {
    "ExecuteTime": {
     "end_time": "2019-06-08T20:26:10.684043Z",
     "start_time": "2019-06-08T20:26:10.555703Z"
    }
   },
   "outputs": [
    {
     "name": "stdout",
     "output_type": "stream",
     "text": [
      "{\"f1_score\": 0.9639376218323586, \"confusion_matrix\": {\"classes\": [\"setosa\", \"versicolor\", \"virginica\"], \"matrix\": [[23, 0, 0], [0, 17, 0], [0, 2, 18]]}}"
     ]
    }
   ],
   "source": [
    "!cat data/eval.txt"
   ]
  },
  {
   "cell_type": "code",
   "execution_count": 56,
   "metadata": {
    "ExecuteTime": {
     "end_time": "2019-06-08T20:26:15.639156Z",
     "start_time": "2019-06-08T20:26:13.946631Z"
    }
   },
   "outputs": [
    {
     "name": "stdout",
     "output_type": "stream",
     "text": [
      "\u001b[KWorking Tree:\n",
      "\u001b[K\tdata/eval.txt: {\"f1_score\": 0.9639376218323586, \"confusion_matrix\": {\"classes\": [\"setosa\", \"versicolor\", \"virginica\"], \"matrix\": [[23, 0, 0], [0, 17, 0], [0, 2, 18]]}}\n",
      "\u001b[Kdvc-tutorial:\n",
      "\u001b[K\tdata/eval.txt: {\"f1_score\": 0.7861833464670345, \"confusion_matrix\": {\"classes\": [\"setosa\", \"versicolor\", \"virginica\"], \"matrix\": [[23, 0, 0], [0, 8, 0], [0, 11, 18]]}}\n",
      "\u001b[Kratio_features:\n",
      "\u001b[K\tdata/eval.txt: {\"f1_score\": 0.8084886128364389, \"confusion_matrix\": {\"classes\": [\"setosa\", \"versicolor\", \"virginica\"], \"matrix\": [[23, 0, 0], [0, 9, 0], [0, 10, 18]]}}\n",
      "\u001b[Ktuning:\n",
      "\u001b[K\tdata/eval.txt: {\"f1_score\": 0.7861833464670345, \"confusion_matrix\": {\"classes\": [\"setosa\", \"versicolor\", \"virginica\"], \"matrix\": [[23, 0, 0], [0, 8, 0], [0, 11, 18]]}}\n",
      "\u001b[0m"
     ]
    }
   ],
   "source": [
    "!dvc metrics show -a"
   ]
  },
  {
   "cell_type": "code",
   "execution_count": 57,
   "metadata": {
    "ExecuteTime": {
     "end_time": "2019-06-08T20:27:04.387164Z",
     "start_time": "2019-06-08T20:27:04.372240Z"
    }
   },
   "outputs": [
    {
     "data": {
      "text/html": [
       "<div>\n",
       "<style scoped>\n",
       "    .dataframe tbody tr th:only-of-type {\n",
       "        vertical-align: middle;\n",
       "    }\n",
       "\n",
       "    .dataframe tbody tr th {\n",
       "        vertical-align: top;\n",
       "    }\n",
       "\n",
       "    .dataframe thead th {\n",
       "        text-align: right;\n",
       "    }\n",
       "</style>\n",
       "<table border=\"1\" class=\"dataframe\">\n",
       "  <thead>\n",
       "    <tr style=\"text-align: right;\">\n",
       "      <th></th>\n",
       "      <th>sepal_length</th>\n",
       "      <th>sepal_width</th>\n",
       "      <th>petal_length</th>\n",
       "      <th>petal_width</th>\n",
       "      <th>species</th>\n",
       "    </tr>\n",
       "  </thead>\n",
       "  <tbody>\n",
       "    <tr>\n",
       "      <th>0</th>\n",
       "      <td>5.1</td>\n",
       "      <td>3.5</td>\n",
       "      <td>1.4</td>\n",
       "      <td>0.2</td>\n",
       "      <td>setosa</td>\n",
       "    </tr>\n",
       "    <tr>\n",
       "      <th>1</th>\n",
       "      <td>4.9</td>\n",
       "      <td>3.0</td>\n",
       "      <td>1.4</td>\n",
       "      <td>0.2</td>\n",
       "      <td>setosa</td>\n",
       "    </tr>\n",
       "    <tr>\n",
       "      <th>2</th>\n",
       "      <td>4.7</td>\n",
       "      <td>3.2</td>\n",
       "      <td>1.3</td>\n",
       "      <td>0.2</td>\n",
       "      <td>setosa</td>\n",
       "    </tr>\n",
       "    <tr>\n",
       "      <th>3</th>\n",
       "      <td>4.6</td>\n",
       "      <td>3.1</td>\n",
       "      <td>1.5</td>\n",
       "      <td>0.2</td>\n",
       "      <td>setosa</td>\n",
       "    </tr>\n",
       "    <tr>\n",
       "      <th>4</th>\n",
       "      <td>5.0</td>\n",
       "      <td>3.6</td>\n",
       "      <td>1.4</td>\n",
       "      <td>0.2</td>\n",
       "      <td>setosa</td>\n",
       "    </tr>\n",
       "  </tbody>\n",
       "</table>\n",
       "</div>"
      ],
      "text/plain": [
       "   sepal_length  sepal_width  petal_length  petal_width species\n",
       "0           5.1          3.5           1.4          0.2  setosa\n",
       "1           4.9          3.0           1.4          0.2  setosa\n",
       "2           4.7          3.2           1.3          0.2  setosa\n",
       "3           4.6          3.1           1.5          0.2  setosa\n",
       "4           5.0          3.6           1.4          0.2  setosa"
      ]
     },
     "execution_count": 57,
     "metadata": {},
     "output_type": "execute_result"
    }
   ],
   "source": [
    "# Check features used in this pipeline\n",
    "\n",
    "import pandas as pd\n",
    "\n",
    "features = pd.read_csv('data/iris_featurized.csv')\n",
    "features.head()"
   ]
  },
  {
   "cell_type": "markdown",
   "metadata": {},
   "source": [
    "### Commit"
   ]
  },
  {
   "cell_type": "code",
   "execution_count": 58,
   "metadata": {
    "ExecuteTime": {
     "end_time": "2019-06-08T20:26:27.384496Z",
     "start_time": "2019-06-08T20:26:27.348070Z"
    }
   },
   "outputs": [
    {
     "name": "stdout",
     "output_type": "stream",
     "text": [
      "[tuning d9fb5a0] Tune model. C=0.1\n",
      " 6 files changed, 159 insertions(+), 102 deletions(-)\n",
      " create mode 100644 src/.ipynb_checkpoints/featurization-checkpoint.py\n",
      " create mode 100644 src/.ipynb_checkpoints/train-checkpoint.py\n"
     ]
    }
   ],
   "source": [
    "%%bash\n",
    "\n",
    "git add .\n",
    "git commit -m \"Tune model. C=0.1\""
   ]
  },
  {
   "cell_type": "markdown",
   "metadata": {},
   "source": [
    "### Merge the model to dvc-tutorial"
   ]
  },
  {
   "cell_type": "code",
   "execution_count": 59,
   "metadata": {
    "ExecuteTime": {
     "end_time": "2019-06-08T11:03:52.229860Z",
     "start_time": "2019-06-08T11:03:52.197399Z"
    },
    "scrolled": true
   },
   "outputs": [
    {
     "name": "stdout",
     "output_type": "stream",
     "text": [
      "Updating 6b7e36c..d9fb5a0\n",
      "Fast-forward\n",
      " src/.ipynb_checkpoints/featurization-checkpoint.py |  20 ++\n",
      " src/.ipynb_checkpoints/train-checkpoint.py         |  19 ++\n",
      " src/train.py                                       |   2 +-\n",
      " stage_evaluate.dvc                                 |   8 +-\n",
      " stage_train.dvc                                    |   6 +-\n",
      " tutorial.ipynb                                     | 206 +++++++++++----------\n",
      " 6 files changed, 159 insertions(+), 102 deletions(-)\n",
      " create mode 100644 src/.ipynb_checkpoints/featurization-checkpoint.py\n",
      " create mode 100644 src/.ipynb_checkpoints/train-checkpoint.py\n"
     ]
    },
    {
     "name": "stderr",
     "output_type": "stream",
     "text": [
      "Switched to branch 'dvc-tutorial'\n"
     ]
    }
   ],
   "source": [
    "%%bash\n",
    "\n",
    "git checkout dvc-tutorial\n",
    "git merge tuning"
   ]
  },
  {
   "cell_type": "code",
   "execution_count": null,
   "metadata": {},
   "outputs": [],
   "source": []
  },
  {
   "cell_type": "markdown",
   "metadata": {},
   "source": [
    "# Share data"
   ]
  },
  {
   "cell_type": "markdown",
   "metadata": {},
   "source": [
    "## Setup remote storage (i.e. cloud)"
   ]
  },
  {
   "cell_type": "code",
   "execution_count": 68,
   "metadata": {
    "ExecuteTime": {
     "end_time": "2019-06-08T18:43:07.266560Z",
     "start_time": "2019-06-08T18:43:06.374823Z"
    }
   },
   "outputs": [
    {
     "name": "stdout",
     "output_type": "stream",
     "text": [
      "\u001b[KSetting 'local' as a default remote.\n",
      "\u001b[0m"
     ]
    }
   ],
   "source": [
    "# Create new remote\n",
    "\n",
    "!dvc remote add -d local /tmp/dvc"
   ]
  },
  {
   "cell_type": "code",
   "execution_count": 69,
   "metadata": {
    "ExecuteTime": {
     "end_time": "2019-06-08T18:43:08.376904Z",
     "start_time": "2019-06-08T18:43:08.244760Z"
    }
   },
   "outputs": [
    {
     "name": "stdout",
     "output_type": "stream",
     "text": [
      " \u001b[31mM\u001b[m .dvc/config\n",
      " \u001b[31mM\u001b[m src/.ipynb_checkpoints/featurization-checkpoint.py\n",
      " \u001b[31mM\u001b[m src/featurization.py\n",
      " \u001b[31mM\u001b[m stage_evaluate.dvc\n",
      " \u001b[31mM\u001b[m stage_feature_extraction.dvc\n",
      " \u001b[31mM\u001b[m stage_split_dataset.dvc\n",
      " \u001b[31mM\u001b[m stage_train.dvc\n",
      " \u001b[31mM\u001b[m tutorial.ipynb\n"
     ]
    }
   ],
   "source": [
    "# as you can see, .dvc/config is changed\n",
    "\n",
    "!git status -s"
   ]
  },
  {
   "cell_type": "code",
   "execution_count": 70,
   "metadata": {
    "ExecuteTime": {
     "end_time": "2019-06-08T18:43:08.678389Z",
     "start_time": "2019-06-08T18:43:08.549743Z"
    }
   },
   "outputs": [
    {
     "name": "stdout",
     "output_type": "stream",
     "text": [
      "['remote \"local\"']\n",
      "url = /tmp/dvc\n",
      "[core]\n",
      "remote = local\n"
     ]
    }
   ],
   "source": [
    "# check config file \n",
    "\n",
    "!cat .dvc/config"
   ]
  },
  {
   "cell_type": "code",
   "execution_count": 71,
   "metadata": {
    "ExecuteTime": {
     "end_time": "2019-06-08T18:43:08.816478Z",
     "start_time": "2019-06-08T18:43:08.768944Z"
    },
    "scrolled": true
   },
   "outputs": [
    {
     "name": "stdout",
     "output_type": "stream",
     "text": [
      "[dvc-tutorial c187801] Add remote storage\n",
      " 8 files changed, 118 insertions(+), 75 deletions(-)\n"
     ]
    }
   ],
   "source": [
    "%%bash\n",
    "\n",
    "git add .\n",
    "git commit -m \"Add remote storage\""
   ]
  },
  {
   "cell_type": "markdown",
   "metadata": {},
   "source": [
    "## Push data to remote"
   ]
  },
  {
   "cell_type": "code",
   "execution_count": 72,
   "metadata": {
    "ExecuteTime": {
     "end_time": "2019-06-08T18:43:10.768509Z",
     "start_time": "2019-06-08T18:43:09.142412Z"
    }
   },
   "outputs": [
    {
     "name": "stdout",
     "output_type": "stream",
     "text": [
      "\u001b[KPreparing to upload data to '/tmp/dvc'\n",
      "\u001b[KPreparing to collect status from /tmp/dvc\n",
      "\u001b[K[##############################] 100% Collecting information\n",
      "\u001b[K[##############################] 100% Analysing status.\n",
      "\u001b[KEverything is up to date.\n",
      "\u001b[0m"
     ]
    }
   ],
   "source": [
    "# Push data to remote\n",
    "\n",
    "!dvc push"
   ]
  },
  {
   "cell_type": "markdown",
   "metadata": {},
   "source": [
    "## Pull date from remote"
   ]
  },
  {
   "cell_type": "code",
   "execution_count": 76,
   "metadata": {
    "ExecuteTime": {
     "end_time": "2019-06-08T18:43:33.237392Z",
     "start_time": "2019-06-08T18:43:30.925555Z"
    }
   },
   "outputs": [
    {
     "name": "stdout",
     "output_type": "stream",
     "text": [
      "\u001b[KPreparing to download data from '/tmp/dvc'\n",
      "\u001b[KPreparing to collect status from /tmp/dvc\n",
      "\u001b[K[##############################] 100% Collecting information\n",
      "\u001b[K[##############################] 100% Analysing status.\n",
      "\u001b[K[##############################] 100% Checkout finished!\n",
      "\n",
      "\u001b[KEverything is up to date.\n",
      "\u001b[0m"
     ]
    }
   ],
   "source": [
    "!dvc pull"
   ]
  },
  {
   "cell_type": "code",
   "execution_count": null,
   "metadata": {},
   "outputs": [],
   "source": []
  }
 ],
 "metadata": {
  "kernelspec": {
   "display_name": "Python 3",
   "language": "python",
   "name": "python3"
  },
  "language_info": {
   "codemirror_mode": {
    "name": "ipython",
    "version": 3
   },
   "file_extension": ".py",
   "mimetype": "text/x-python",
   "name": "python",
   "nbconvert_exporter": "python",
   "pygments_lexer": "ipython3",
   "version": "3.7.3"
  },
  "toc": {
   "base_numbering": 1,
   "nav_menu": {},
   "number_sections": true,
   "sideBar": true,
   "skip_h1_title": false,
   "title_cell": "Table of Contents",
   "title_sidebar": "Contents",
   "toc_cell": false,
   "toc_position": {
    "height": "calc(100% - 180px)",
    "left": "10px",
    "top": "150px",
    "width": "288px"
   },
   "toc_section_display": true,
   "toc_window_display": true
  },
  "varInspector": {
   "cols": {
    "lenName": 16,
    "lenType": 16,
    "lenVar": 40
   },
   "kernels_config": {
    "python": {
     "delete_cmd_postfix": "",
     "delete_cmd_prefix": "del ",
     "library": "var_list.py",
     "varRefreshCmd": "print(var_dic_list())"
    },
    "r": {
     "delete_cmd_postfix": ") ",
     "delete_cmd_prefix": "rm(",
     "library": "var_list.r",
     "varRefreshCmd": "cat(var_dic_list()) "
    }
   },
   "types_to_exclude": [
    "module",
    "function",
    "builtin_function_or_method",
    "instance",
    "_Feature"
   ],
   "window_display": false
  }
 },
 "nbformat": 4,
 "nbformat_minor": 2
}
