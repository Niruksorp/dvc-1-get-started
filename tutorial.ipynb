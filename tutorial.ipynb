{
 "cells": [
  {
   "cell_type": "markdown",
   "metadata": {},
   "source": [
    "# Preparation\n",
    "\n",
    "\n",
    "Check README.md file for install/setup instructions \n",
    "\n",
    "**References**\n",
    "\n",
    "\n",
    "https://dvc.org/doc/tutorial/define-ml-pipeline - used as example"
   ]
  },
  {
   "cell_type": "markdown",
   "metadata": {
    "ExecuteTime": {
     "end_time": "2019-06-08T11:18:29.199273Z",
     "start_time": "2019-06-08T11:18:29.196865Z"
    }
   },
   "source": [
    "## Initialize DVC"
   ]
  },
  {
   "cell_type": "code",
   "execution_count": 1,
   "metadata": {
    "ExecuteTime": {
     "end_time": "2019-06-09T07:56:23.585745Z",
     "start_time": "2019-06-09T07:56:21.367884Z"
    }
   },
   "outputs": [
    {
     "name": "stdout",
     "output_type": "stream",
     "text": [
      "\u001b[KAdding '.dvc/state' to '.dvc/.gitignore'.\n",
      "\u001b[KAdding '.dvc/lock' to '.dvc/.gitignore'.\n",
      "\u001b[KAdding '.dvc/config.local' to '.dvc/.gitignore'.\n",
      "\u001b[KAdding '.dvc/updater' to '.dvc/.gitignore'.\n",
      "\u001b[KAdding '.dvc/updater.lock' to '.dvc/.gitignore'.\n",
      "\u001b[KAdding '.dvc/state-journal' to '.dvc/.gitignore'.\n",
      "\u001b[KAdding '.dvc/state-wal' to '.dvc/.gitignore'.\n",
      "\u001b[KAdding '.dvc/cache' to '.dvc/.gitignore'.\n",
      "\u001b[K\n",
      "You can now commit the changes to git.\n",
      "\n",
      "\u001b[K\u001b[31m+---------------------------------------------------------------------+\n",
      "\u001b[39m\u001b[31m|\u001b[39m                                                                     \u001b[31m|\u001b[39m\n",
      "\u001b[31m|\u001b[39m        DVC has enabled anonymous aggregate usage analytics.         \u001b[31m|\u001b[39m\n",
      "\u001b[31m|\u001b[39m     Read the analytics documentation (and how to opt-out) here:     \u001b[31m|\u001b[39m\n",
      "\u001b[31m|\u001b[39m              \u001b[34mhttps://dvc.org/doc/user-guide/analytics\u001b[39m               \u001b[31m|\u001b[39m\n",
      "\u001b[31m|\u001b[39m                                                                     \u001b[31m|\u001b[39m\n",
      "\u001b[31m+---------------------------------------------------------------------+\n",
      "\u001b[39m\n",
      "\u001b[K\u001b[33mWhat's next?\u001b[39m\n",
      "\u001b[33m------------\u001b[39m\n",
      "- Check out the documentation: \u001b[34mhttps://dvc.org/doc\u001b[39m\n",
      "- Get help and share ideas: \u001b[34mhttps://dvc.org/chat\u001b[39m\n",
      "- Star us on GitHub: \u001b[34mhttps://github.com/iterative/dvc\u001b[39m\n",
      "\u001b[0m"
     ]
    }
   ],
   "source": [
    "!dvc init -f"
   ]
  },
  {
   "cell_type": "code",
   "execution_count": 2,
   "metadata": {
    "ExecuteTime": {
     "end_time": "2019-06-09T07:56:42.119367Z",
     "start_time": "2019-06-09T07:56:42.004239Z"
    }
   },
   "outputs": [
    {
     "name": "stdout",
     "output_type": "stream",
     "text": [
      "[dvc-tutorial 39329bb] Initialize DVC\n",
      " 2 files changed, 8 insertions(+)\n",
      " create mode 100644 .dvc/.gitignore\n",
      " create mode 100644 .dvc/config\n"
     ]
    }
   ],
   "source": [
    "%%bash\n",
    "\n",
    "git add .\n",
    "git commit -m \"Initialize DVC\""
   ]
  },
  {
   "cell_type": "markdown",
   "metadata": {},
   "source": [
    "### Files and Directories "
   ]
  },
  {
   "cell_type": "code",
   "execution_count": 3,
   "metadata": {
    "ExecuteTime": {
     "end_time": "2019-06-09T07:56:45.944211Z",
     "start_time": "2019-06-09T07:56:45.794566Z"
    }
   },
   "outputs": [
    {
     "name": "stdout",
     "output_type": "stream",
     "text": [
      "\u001b[1m\u001b[36m.\u001b[m\u001b[m            .gitignore   config       updater.lock\r\n",
      "\u001b[1m\u001b[36m..\u001b[m\u001b[m           \u001b[1m\u001b[36mcache\u001b[m\u001b[m        updater\r\n"
     ]
    }
   ],
   "source": [
    "!ls -a .dvc "
   ]
  },
  {
   "cell_type": "code",
   "execution_count": 4,
   "metadata": {
    "ExecuteTime": {
     "end_time": "2019-06-09T07:56:51.743366Z",
     "start_time": "2019-06-09T07:56:51.598342Z"
    }
   },
   "outputs": [
    {
     "name": "stdout",
     "output_type": "stream",
     "text": [
      "/state\r\n",
      "/lock\r\n",
      "/config.local\r\n",
      "/updater\r\n",
      "/updater.lock\r\n",
      "/state-journal\r\n",
      "/state-wal\r\n",
      "/cache"
     ]
    }
   ],
   "source": [
    "!cat .dvc/.gitignore"
   ]
  },
  {
   "cell_type": "markdown",
   "metadata": {},
   "source": [
    "# Control versions of data"
   ]
  },
  {
   "cell_type": "code",
   "execution_count": 5,
   "metadata": {
    "ExecuteTime": {
     "end_time": "2019-06-09T07:57:11.182298Z",
     "start_time": "2019-06-09T07:57:10.515902Z"
    },
    "scrolled": false
   },
   "outputs": [
    {
     "name": "stdout",
     "output_type": "stream",
     "text": [
      "--2019-06-09 10:57:10--  https://raw.githubusercontent.com/uiuc-cse/data-fa14/gh-pages/data/iris.csv\n",
      "Resolving raw.githubusercontent.com... 151.101.112.133\n",
      "Connecting to raw.githubusercontent.com|151.101.112.133|:443... connected.\n",
      "HTTP request sent, awaiting response... 200 OK\n",
      "Length: 3716 (3.6K) [text/plain]\n",
      "Saving to: ‘data/iris.csv’\n",
      "\n",
      "iris.csv            100%[===================>]   3.63K  --.-KB/s    in 0s      \n",
      "\n",
      "2019-06-09 10:57:10 (42.7 MB/s) - ‘data/iris.csv’ saved [3716/3716]\n",
      "\n",
      "4.0K\tdata/iris.csv\n"
     ]
    }
   ],
   "source": [
    "# Get data \n",
    "\n",
    "!wget -P data/ https://raw.githubusercontent.com/uiuc-cse/data-fa14/gh-pages/data/iris.csv\n",
    "!du -sh data/*"
   ]
  },
  {
   "cell_type": "code",
   "execution_count": 6,
   "metadata": {
    "ExecuteTime": {
     "end_time": "2019-06-09T07:57:14.667860Z",
     "start_time": "2019-06-09T07:57:13.886189Z"
    }
   },
   "outputs": [
    {
     "data": {
      "text/html": [
       "<div>\n",
       "<style scoped>\n",
       "    .dataframe tbody tr th:only-of-type {\n",
       "        vertical-align: middle;\n",
       "    }\n",
       "\n",
       "    .dataframe tbody tr th {\n",
       "        vertical-align: top;\n",
       "    }\n",
       "\n",
       "    .dataframe thead th {\n",
       "        text-align: right;\n",
       "    }\n",
       "</style>\n",
       "<table border=\"1\" class=\"dataframe\">\n",
       "  <thead>\n",
       "    <tr style=\"text-align: right;\">\n",
       "      <th></th>\n",
       "      <th>sepal_length</th>\n",
       "      <th>sepal_width</th>\n",
       "      <th>petal_length</th>\n",
       "      <th>petal_width</th>\n",
       "      <th>species</th>\n",
       "    </tr>\n",
       "  </thead>\n",
       "  <tbody>\n",
       "    <tr>\n",
       "      <th>0</th>\n",
       "      <td>5.1</td>\n",
       "      <td>3.5</td>\n",
       "      <td>1.4</td>\n",
       "      <td>0.2</td>\n",
       "      <td>setosa</td>\n",
       "    </tr>\n",
       "    <tr>\n",
       "      <th>1</th>\n",
       "      <td>4.9</td>\n",
       "      <td>3.0</td>\n",
       "      <td>1.4</td>\n",
       "      <td>0.2</td>\n",
       "      <td>setosa</td>\n",
       "    </tr>\n",
       "    <tr>\n",
       "      <th>2</th>\n",
       "      <td>4.7</td>\n",
       "      <td>3.2</td>\n",
       "      <td>1.3</td>\n",
       "      <td>0.2</td>\n",
       "      <td>setosa</td>\n",
       "    </tr>\n",
       "    <tr>\n",
       "      <th>3</th>\n",
       "      <td>4.6</td>\n",
       "      <td>3.1</td>\n",
       "      <td>1.5</td>\n",
       "      <td>0.2</td>\n",
       "      <td>setosa</td>\n",
       "    </tr>\n",
       "    <tr>\n",
       "      <th>4</th>\n",
       "      <td>5.0</td>\n",
       "      <td>3.6</td>\n",
       "      <td>1.4</td>\n",
       "      <td>0.2</td>\n",
       "      <td>setosa</td>\n",
       "    </tr>\n",
       "  </tbody>\n",
       "</table>\n",
       "</div>"
      ],
      "text/plain": [
       "   sepal_length  sepal_width  petal_length  petal_width species\n",
       "0           5.1          3.5           1.4          0.2  setosa\n",
       "1           4.9          3.0           1.4          0.2  setosa\n",
       "2           4.7          3.2           1.3          0.2  setosa\n",
       "3           4.6          3.1           1.5          0.2  setosa\n",
       "4           5.0          3.6           1.4          0.2  setosa"
      ]
     },
     "execution_count": 6,
     "metadata": {},
     "output_type": "execute_result"
    }
   ],
   "source": [
    "# Look on data\n",
    "\n",
    "import pandas as pd\n",
    "\n",
    "df = pd.read_csv('data/iris.csv')\n",
    "df.head()"
   ]
  },
  {
   "cell_type": "markdown",
   "metadata": {},
   "source": [
    "## Add file under DVC control"
   ]
  },
  {
   "cell_type": "code",
   "execution_count": 7,
   "metadata": {
    "ExecuteTime": {
     "end_time": "2019-06-09T07:57:50.734314Z",
     "start_time": "2019-06-09T07:57:46.916932Z"
    },
    "scrolled": true
   },
   "outputs": [
    {
     "name": "stdout",
     "output_type": "stream",
     "text": [
      "\r",
      "Adding 'data/iris.csv' to 'data/.gitignore'.\n",
      "\r",
      "Saving 'data/iris.csv' to '.dvc/cache/57/fce90c81521889c736445f058c4838'.\n",
      "\r",
      "Saving information to 'data/iris.csv.dvc'.\n",
      "\r\n",
      "To track the changes with git run:\n",
      "\n",
      "\tgit add data/.gitignore data/iris.csv.dvc\n",
      "4.0K\tdata/iris.csv\n",
      "4.0K\tdata/iris.csv.dvc\n"
     ]
    }
   ],
   "source": [
    "%%bash\n",
    "\n",
    "dvc add data/iris.csv\n",
    "du -sh data/*"
   ]
  },
  {
   "cell_type": "code",
   "execution_count": 8,
   "metadata": {
    "ExecuteTime": {
     "end_time": "2019-06-09T07:57:53.551757Z",
     "start_time": "2019-06-09T07:57:53.420142Z"
    }
   },
   "outputs": [
    {
     "name": "stdout",
     "output_type": "stream",
     "text": [
      "\u001b[31m??\u001b[m data/.gitignore\r\n",
      "\u001b[31m??\u001b[m data/iris.csv.dvc\r\n"
     ]
    }
   ],
   "source": [
    "!git status -s data/"
   ]
  },
  {
   "cell_type": "code",
   "execution_count": 9,
   "metadata": {
    "ExecuteTime": {
     "end_time": "2019-06-09T07:57:55.231135Z",
     "start_time": "2019-06-09T07:57:55.190232Z"
    },
    "scrolled": true
   },
   "outputs": [
    {
     "name": "stdout",
     "output_type": "stream",
     "text": [
      "[dvc-tutorial 6eebfb1] Add a source dataset\n",
      " 2 files changed, 9 insertions(+)\n",
      " create mode 100644 data/.gitignore\n",
      " create mode 100644 data/iris.csv.dvc\n"
     ]
    }
   ],
   "source": [
    "%%bash\n",
    "\n",
    "git add .\n",
    "git commit -m \"Add a source dataset\""
   ]
  },
  {
   "cell_type": "markdown",
   "metadata": {},
   "source": [
    "## What is DVC-file?"
   ]
  },
  {
   "cell_type": "markdown",
   "metadata": {},
   "source": [
    "Data file internals\n",
    "\n",
    "\n",
    ">    If you take a look at the DVC-file, you will see that only outputs are defined in outs. \n",
    "    In this file, only one output is defined. The output contains the data file path in the repository and md5 cache.\n",
    "    This md5 cache determines a location of the actual content file in DVC cache directory .dvc/cache\n",
    "    >> Output from DVC-files defines the relationship between the data file path in a repository and the path in a cache directory. See also DVC File Format\n",
    "\n",
    "\n",
    "\n",
    "(c) dvc.org https://dvc.org/doc/tutorial/define-ml-pipeline"
   ]
  },
  {
   "cell_type": "code",
   "execution_count": 1,
   "metadata": {
    "ExecuteTime": {
     "end_time": "2019-06-16T13:10:05.477448Z",
     "start_time": "2019-06-16T13:10:05.308304Z"
    }
   },
   "outputs": [
    {
     "name": "stdout",
     "output_type": "stream",
     "text": [
      "cat: data/iris.csv.dvc: No such file or directory\r\n"
     ]
    }
   ],
   "source": [
    "!cat data/iris.csv.dvc"
   ]
  },
  {
   "cell_type": "code",
   "execution_count": 11,
   "metadata": {
    "ExecuteTime": {
     "end_time": "2019-06-09T07:58:18.861064Z",
     "start_time": "2019-06-09T07:58:18.733416Z"
    }
   },
   "outputs": [
    {
     "name": "stdout",
     "output_type": "stream",
     "text": [
      "4.0K\t.dvc/cache/57/fce90c81521889c736445f058c4838\r\n"
     ]
    }
   ],
   "source": [
    "!du -sh .dvc/cache/*/*"
   ]
  },
  {
   "cell_type": "markdown",
   "metadata": {},
   "source": [
    "# Create ML pipeline\n",
    "\n",
    "Stages \n",
    "- extract features \n",
    "- split dataset \n",
    "- train \n",
    "- evaluate \n"
   ]
  },
  {
   "cell_type": "markdown",
   "metadata": {},
   "source": [
    "## Add feature extraction stage"
   ]
  },
  {
   "cell_type": "code",
   "execution_count": 12,
   "metadata": {
    "ExecuteTime": {
     "end_time": "2019-06-09T07:58:32.857924Z",
     "start_time": "2019-06-09T07:58:29.782395Z"
    }
   },
   "outputs": [
    {
     "name": "stdout",
     "output_type": "stream",
     "text": [
      "\u001b[KRunning command:\n",
      "\tpython src/featurization.py\n",
      "\u001b[KAdding 'data/iris_featurized.csv' to 'data/.gitignore'.\n",
      "\u001b[KSaving 'data/iris_featurized.csv' to '.dvc/cache/04/ed69383af337e9dabf934cbc8abc11'.\n",
      "\u001b[KSaving information to 'stage_feature_extraction.dvc'.\n",
      "\u001b[K\n",
      "To track the changes with git run:\n",
      "\n",
      "\tgit add data/.gitignore stage_feature_extraction.dvc\n",
      "\u001b[0m"
     ]
    }
   ],
   "source": [
    "!dvc run -f stage_feature_extraction.dvc \\\n",
    "    -d src/featurization.py \\\n",
    "    -d data/iris.csv \\\n",
    "    -o data/iris_featurized.csv \\\n",
    "    python src/featurization.py"
   ]
  },
  {
   "cell_type": "code",
   "execution_count": 13,
   "metadata": {
    "ExecuteTime": {
     "end_time": "2019-06-09T07:58:34.824380Z",
     "start_time": "2019-06-09T07:58:34.685732Z"
    }
   },
   "outputs": [
    {
     "name": "stdout",
     "output_type": "stream",
     "text": [
      "README.md                    stage_feature_extraction.dvc\r\n",
      "\u001b[1m\u001b[36mdata\u001b[m\u001b[m                         tutorial.ipynb\r\n",
      "requirements.txt             \u001b[1m\u001b[36mvenv\u001b[m\u001b[m\r\n",
      "\u001b[1m\u001b[36msrc\u001b[m\u001b[m\r\n"
     ]
    }
   ],
   "source": [
    "!ls "
   ]
  },
  {
   "cell_type": "code",
   "execution_count": 14,
   "metadata": {
    "ExecuteTime": {
     "end_time": "2019-06-09T07:58:42.456176Z",
     "start_time": "2019-06-09T07:58:42.309322Z"
    }
   },
   "outputs": [
    {
     "name": "stdout",
     "output_type": "stream",
     "text": [
      "md5: 7fa7e84ef809dc5478ba9d9291915c71\r\n",
      "cmd: python src/featurization.py\r\n",
      "wdir: .\r\n",
      "deps:\r\n",
      "- md5: 33729a6a870be74dc3bc2983284a22de\r\n",
      "  path: src/featurization.py\r\n",
      "- md5: 57fce90c81521889c736445f058c4838\r\n",
      "  path: data/iris.csv\r\n",
      "outs:\r\n",
      "- md5: 04ed69383af337e9dabf934cbc8abc11\r\n",
      "  path: data/iris_featurized.csv\r\n",
      "  cache: true\r\n",
      "  metric: false\r\n",
      "  persist: false\r\n"
     ]
    }
   ],
   "source": [
    "!cat stage_feature_extraction.dvc"
   ]
  },
  {
   "cell_type": "code",
   "execution_count": 15,
   "metadata": {
    "ExecuteTime": {
     "end_time": "2019-06-09T07:58:45.137739Z",
     "start_time": "2019-06-09T07:58:45.125056Z"
    }
   },
   "outputs": [
    {
     "data": {
      "text/html": [
       "<div>\n",
       "<style scoped>\n",
       "    .dataframe tbody tr th:only-of-type {\n",
       "        vertical-align: middle;\n",
       "    }\n",
       "\n",
       "    .dataframe tbody tr th {\n",
       "        vertical-align: top;\n",
       "    }\n",
       "\n",
       "    .dataframe thead th {\n",
       "        text-align: right;\n",
       "    }\n",
       "</style>\n",
       "<table border=\"1\" class=\"dataframe\">\n",
       "  <thead>\n",
       "    <tr style=\"text-align: right;\">\n",
       "      <th></th>\n",
       "      <th>sepal_length</th>\n",
       "      <th>sepal_width</th>\n",
       "      <th>petal_length</th>\n",
       "      <th>petal_width</th>\n",
       "      <th>species</th>\n",
       "    </tr>\n",
       "  </thead>\n",
       "  <tbody>\n",
       "    <tr>\n",
       "      <th>0</th>\n",
       "      <td>5.1</td>\n",
       "      <td>3.5</td>\n",
       "      <td>1.4</td>\n",
       "      <td>0.2</td>\n",
       "      <td>setosa</td>\n",
       "    </tr>\n",
       "    <tr>\n",
       "      <th>1</th>\n",
       "      <td>4.9</td>\n",
       "      <td>3.0</td>\n",
       "      <td>1.4</td>\n",
       "      <td>0.2</td>\n",
       "      <td>setosa</td>\n",
       "    </tr>\n",
       "    <tr>\n",
       "      <th>2</th>\n",
       "      <td>4.7</td>\n",
       "      <td>3.2</td>\n",
       "      <td>1.3</td>\n",
       "      <td>0.2</td>\n",
       "      <td>setosa</td>\n",
       "    </tr>\n",
       "    <tr>\n",
       "      <th>3</th>\n",
       "      <td>4.6</td>\n",
       "      <td>3.1</td>\n",
       "      <td>1.5</td>\n",
       "      <td>0.2</td>\n",
       "      <td>setosa</td>\n",
       "    </tr>\n",
       "    <tr>\n",
       "      <th>4</th>\n",
       "      <td>5.0</td>\n",
       "      <td>3.6</td>\n",
       "      <td>1.4</td>\n",
       "      <td>0.2</td>\n",
       "      <td>setosa</td>\n",
       "    </tr>\n",
       "  </tbody>\n",
       "</table>\n",
       "</div>"
      ],
      "text/plain": [
       "   sepal_length  sepal_width  petal_length  petal_width species\n",
       "0           5.1          3.5           1.4          0.2  setosa\n",
       "1           4.9          3.0           1.4          0.2  setosa\n",
       "2           4.7          3.2           1.3          0.2  setosa\n",
       "3           4.6          3.1           1.5          0.2  setosa\n",
       "4           5.0          3.6           1.4          0.2  setosa"
      ]
     },
     "execution_count": 15,
     "metadata": {},
     "output_type": "execute_result"
    }
   ],
   "source": [
    "import pandas as pd\n",
    "\n",
    "features = pd.read_csv('data/iris_featurized.csv')\n",
    "features.head()"
   ]
  },
  {
   "cell_type": "code",
   "execution_count": 16,
   "metadata": {
    "ExecuteTime": {
     "end_time": "2019-06-09T07:58:58.353583Z",
     "start_time": "2019-06-09T07:58:58.220616Z"
    }
   },
   "outputs": [
    {
     "name": "stdout",
     "output_type": "stream",
     "text": [
      " \u001b[31mM\u001b[m data/.gitignore\r\n",
      " \u001b[31mM\u001b[m tutorial.ipynb\r\n",
      "\u001b[31m??\u001b[m stage_feature_extraction.dvc\r\n"
     ]
    }
   ],
   "source": [
    "!git status -s"
   ]
  },
  {
   "cell_type": "code",
   "execution_count": 17,
   "metadata": {
    "ExecuteTime": {
     "end_time": "2019-06-09T07:59:00.390390Z",
     "start_time": "2019-06-09T07:59:00.349046Z"
    }
   },
   "outputs": [
    {
     "name": "stdout",
     "output_type": "stream",
     "text": [
      "[dvc-tutorial 3befc9f] Add stage_features_extraction\n",
      " 3 files changed, 67 insertions(+), 46 deletions(-)\n",
      " create mode 100644 stage_feature_extraction.dvc\n"
     ]
    }
   ],
   "source": [
    "%%bash\n",
    "git add .\n",
    "git commit -m \"Add stage_features_extraction\""
   ]
  },
  {
   "cell_type": "markdown",
   "metadata": {},
   "source": [
    "## Add split train/test stage"
   ]
  },
  {
   "cell_type": "code",
   "execution_count": 26,
   "metadata": {
    "ExecuteTime": {
     "end_time": "2019-06-09T08:03:19.195387Z",
     "start_time": "2019-06-09T08:03:16.161864Z"
    }
   },
   "outputs": [
    {
     "name": "stdout",
     "output_type": "stream",
     "text": [
      "\u001b[KRunning command:\n",
      "\tpython src/split_dataset.py --test_size 0.4\n",
      "\u001b[KAdding 'data/train.csv' to 'data/.gitignore'.\n",
      "\u001b[KAdding 'data/test.csv' to 'data/.gitignore'.\n",
      "\u001b[KSaving 'data/train.csv' to '.dvc/cache/3b/7d94d2e2675fb9132c42b1da980794'.\n",
      "\u001b[KSaving 'data/test.csv' to '.dvc/cache/b3/7f00bfd2ce46c61fe744d6d26b41d3'.\n",
      "\u001b[KSaving information to 'stage_split_dataset.dvc'.\n",
      "\u001b[K\n",
      "To track the changes with git run:\n",
      "\n",
      "\tgit add data/.gitignore data/.gitignore stage_split_dataset.dvc\n",
      "\u001b[0m"
     ]
    }
   ],
   "source": [
    "!dvc run -f stage_split_dataset.dvc \\\n",
    "    -d src/split_dataset.py \\\n",
    "    -d data/iris_featurized.csv \\\n",
    "    -o data/train.csv \\\n",
    "    -o data/test.csv \\\n",
    "    python src/split_dataset.py --test_size 0.4"
   ]
  },
  {
   "cell_type": "code",
   "execution_count": 27,
   "metadata": {
    "ExecuteTime": {
     "end_time": "2019-06-09T08:04:09.416332Z",
     "start_time": "2019-06-09T08:04:09.290348Z"
    }
   },
   "outputs": [
    {
     "name": "stdout",
     "output_type": "stream",
     "text": [
      "md5: 334b801dc736aeb2275c48e1db84cfd7\r\n",
      "cmd: python src/split_dataset.py --test_size 0.4\r\n",
      "wdir: .\r\n",
      "deps:\r\n",
      "- md5: 5da797093e3e72ca65720df86c842a39\r\n",
      "  path: src/split_dataset.py\r\n",
      "- md5: 04ed69383af337e9dabf934cbc8abc11\r\n",
      "  path: data/iris_featurized.csv\r\n",
      "outs:\r\n",
      "- md5: 3b7d94d2e2675fb9132c42b1da980794\r\n",
      "  path: data/train.csv\r\n",
      "  cache: true\r\n",
      "  metric: false\r\n",
      "  persist: false\r\n",
      "- md5: b37f00bfd2ce46c61fe744d6d26b41d3\r\n",
      "  path: data/test.csv\r\n",
      "  cache: true\r\n",
      "  metric: false\r\n",
      "  persist: false\r\n"
     ]
    }
   ],
   "source": [
    "!cat stage_split_dataset.dvc"
   ]
  },
  {
   "cell_type": "markdown",
   "metadata": {},
   "source": [
    "## Add train stage"
   ]
  },
  {
   "cell_type": "code",
   "execution_count": 28,
   "metadata": {
    "ExecuteTime": {
     "end_time": "2019-06-09T08:04:16.215376Z",
     "start_time": "2019-06-09T08:04:12.730565Z"
    }
   },
   "outputs": [
    {
     "name": "stdout",
     "output_type": "stream",
     "text": [
      "\u001b[KRunning command:\n",
      "\tpython src/train.py\n",
      "\u001b[KAdding 'data/model.joblib' to 'data/.gitignore'.\n",
      "\u001b[KSaving 'data/model.joblib' to '.dvc/cache/d6/31150e260de432a811bfe7dd8935ec'.\n",
      "\u001b[KSaving information to 'stage_train.dvc'.\n",
      "\u001b[K\n",
      "To track the changes with git run:\n",
      "\n",
      "\tgit add data/.gitignore stage_train.dvc\n",
      "\u001b[0m"
     ]
    }
   ],
   "source": [
    "!dvc run -f stage_train.dvc \\\n",
    "    -d src/train.py \\\n",
    "    -d data/train.csv \\\n",
    "    -o data/model.joblib \\\n",
    "    python src/train.py"
   ]
  },
  {
   "cell_type": "code",
   "execution_count": 29,
   "metadata": {
    "ExecuteTime": {
     "end_time": "2019-06-09T08:04:19.680639Z",
     "start_time": "2019-06-09T08:04:19.555520Z"
    }
   },
   "outputs": [
    {
     "name": "stdout",
     "output_type": "stream",
     "text": [
      "md5: 1409d57473a56f42048a84c797dbbec5\r\n",
      "cmd: python src/train.py\r\n",
      "wdir: .\r\n",
      "deps:\r\n",
      "- md5: 025acbe1552887fab33f5314d036e907\r\n",
      "  path: src/train.py\r\n",
      "- md5: 3b7d94d2e2675fb9132c42b1da980794\r\n",
      "  path: data/train.csv\r\n",
      "outs:\r\n",
      "- md5: d631150e260de432a811bfe7dd8935ec\r\n",
      "  path: data/model.joblib\r\n",
      "  cache: true\r\n",
      "  metric: false\r\n",
      "  persist: false\r\n"
     ]
    }
   ],
   "source": [
    "!cat stage_train.dvc"
   ]
  },
  {
   "cell_type": "markdown",
   "metadata": {},
   "source": [
    "### Add evaluate stage"
   ]
  },
  {
   "cell_type": "code",
   "execution_count": 30,
   "metadata": {
    "ExecuteTime": {
     "end_time": "2019-06-09T08:04:26.605414Z",
     "start_time": "2019-06-09T08:04:23.480915Z"
    }
   },
   "outputs": [
    {
     "name": "stdout",
     "output_type": "stream",
     "text": [
      "\u001b[KRunning command:\n",
      "\tpython src/evaluate.py\n",
      "\u001b[KAdding 'data/eval.txt' to 'data/.gitignore'.\n",
      "\u001b[KSaving 'data/eval.txt' to '.dvc/cache/1f/7764d988d8d251dc3e9b1c5419f58b'.\n",
      "\u001b[KSaving information to 'stage_evaluate.dvc'.\n",
      "\u001b[K\n",
      "To track the changes with git run:\n",
      "\n",
      "\tgit add data/.gitignore stage_evaluate.dvc\n",
      "\u001b[0m"
     ]
    }
   ],
   "source": [
    "!dvc run -f stage_evaluate.dvc \\\n",
    "    -d src/train.py \\\n",
    "    -d src/evaluate.py \\\n",
    "    -d data/test.csv \\\n",
    "    -d data/model.joblib \\\n",
    "    -m data/eval.txt \\\n",
    "    python src/evaluate.py"
   ]
  },
  {
   "cell_type": "code",
   "execution_count": 31,
   "metadata": {
    "ExecuteTime": {
     "end_time": "2019-06-09T08:04:28.370117Z",
     "start_time": "2019-06-09T08:04:28.242587Z"
    }
   },
   "outputs": [
    {
     "name": "stdout",
     "output_type": "stream",
     "text": [
      "md5: 2c5f02b139310b839b97f2a093b802b9\r\n",
      "cmd: python src/evaluate.py\r\n",
      "wdir: .\r\n",
      "deps:\r\n",
      "- md5: 025acbe1552887fab33f5314d036e907\r\n",
      "  path: src/train.py\r\n",
      "- md5: 9b394d26e9427759256195b47917028b\r\n",
      "  path: src/evaluate.py\r\n",
      "- md5: b37f00bfd2ce46c61fe744d6d26b41d3\r\n",
      "  path: data/test.csv\r\n",
      "- md5: d631150e260de432a811bfe7dd8935ec\r\n",
      "  path: data/model.joblib\r\n",
      "outs:\r\n",
      "- md5: 1f7764d988d8d251dc3e9b1c5419f58b\r\n",
      "  path: data/eval.txt\r\n",
      "  cache: true\r\n",
      "  metric: true\r\n",
      "  persist: false\r\n"
     ]
    }
   ],
   "source": [
    "!cat stage_evaluate.dvc"
   ]
  },
  {
   "cell_type": "markdown",
   "metadata": {},
   "source": [
    "# Metrics tracking"
   ]
  },
  {
   "cell_type": "code",
   "execution_count": 32,
   "metadata": {
    "ExecuteTime": {
     "end_time": "2019-06-09T08:04:34.968075Z",
     "start_time": "2019-06-09T08:04:33.115716Z"
    },
    "scrolled": false
   },
   "outputs": [
    {
     "name": "stdout",
     "output_type": "stream",
     "text": [
      "\u001b[K\tdata/eval.txt: {\"f1_score\": 0.7861833464670345, \"confusion_matrix\": {\"classes\": [\"setosa\", \"versicolor\", \"virginica\"], \"matrix\": [[23, 0, 0], [0, 8, 0], [0, 11, 18]]}}\n",
      "\u001b[0m"
     ]
    }
   ],
   "source": [
    "!dvc metrics show"
   ]
  },
  {
   "cell_type": "markdown",
   "metadata": {},
   "source": [
    "## Commit dvc pipelines"
   ]
  },
  {
   "cell_type": "code",
   "execution_count": 33,
   "metadata": {
    "ExecuteTime": {
     "end_time": "2019-06-09T08:04:44.002365Z",
     "start_time": "2019-06-09T08:04:43.868883Z"
    }
   },
   "outputs": [
    {
     "name": "stdout",
     "output_type": "stream",
     "text": [
      " \u001b[31mM\u001b[m data/.gitignore\r\n",
      " \u001b[31mM\u001b[m src/split_dataset.py\r\n",
      " \u001b[31mM\u001b[m tutorial.ipynb\r\n",
      "\u001b[31m??\u001b[m stage_evaluate.dvc\r\n",
      "\u001b[31m??\u001b[m stage_split_dataset.dvc\r\n",
      "\u001b[31m??\u001b[m stage_train.dvc\r\n"
     ]
    }
   ],
   "source": [
    "!git status -s"
   ]
  },
  {
   "cell_type": "code",
   "execution_count": 34,
   "metadata": {
    "ExecuteTime": {
     "end_time": "2019-06-09T08:04:46.316691Z",
     "start_time": "2019-06-09T08:04:46.274343Z"
    },
    "scrolled": true
   },
   "outputs": [
    {
     "name": "stdout",
     "output_type": "stream",
     "text": [
      "[dvc-tutorial 7304361] Add pipelines\n",
      " 6 files changed, 130 insertions(+), 91 deletions(-)\n",
      " create mode 100644 stage_evaluate.dvc\n",
      " create mode 100644 stage_split_dataset.dvc\n",
      " create mode 100644 stage_train.dvc\n"
     ]
    }
   ],
   "source": [
    "%%bash\n",
    "git add .\n",
    "git commit -m \"Add pipelines\""
   ]
  },
  {
   "cell_type": "code",
   "execution_count": null,
   "metadata": {},
   "outputs": [],
   "source": []
  },
  {
   "cell_type": "markdown",
   "metadata": {},
   "source": [
    "# Reproducibility"
   ]
  },
  {
   "cell_type": "markdown",
   "metadata": {},
   "source": [
    "## How does it work?"
   ]
  },
  {
   "cell_type": "markdown",
   "metadata": {},
   "source": [
    "> The most exciting part of DVC is reproducibility.\n",
    ">> Reproducibility is the time you are getting benefits out of DVC instead of spending time defining the ML pipelines.\n",
    "\n",
    "> DVC tracks all the dependencies, which helps you iterate on ML models faster without thinking what was affected by your last change.\n",
    ">> In order to track all the dependencies, DVC finds and reads ALL the DVC-files in a repository and builds a dependency graph (DAG) based on these files.\n",
    "\n",
    "> This is one of the differences between DVC reproducibility and traditional Makefile-like build automation tools (Make, Maven, Ant, Rakefile etc). It was designed in such a way to localize specification of DAG nodes.\n",
    "If you run repro on any created DVC-file from our repository, nothing happens because nothing was changed in the defined pipeline.\n",
    "\n",
    "(c) dvc.org https://dvc.org/doc/tutorial/reproducibility"
   ]
  },
  {
   "cell_type": "code",
   "execution_count": 35,
   "metadata": {
    "ExecuteTime": {
     "end_time": "2019-06-09T08:05:03.824843Z",
     "start_time": "2019-06-09T08:05:01.988326Z"
    }
   },
   "outputs": [
    {
     "name": "stdout",
     "output_type": "stream",
     "text": [
      "\u001b[KStage 'data/iris.csv.dvc' didn't change.\n",
      "\u001b[KStage 'stage_feature_extraction.dvc' didn't change.\n",
      "\u001b[KStage 'stage_split_dataset.dvc' didn't change.\n",
      "\u001b[KStage 'stage_train.dvc' didn't change.\n",
      "\u001b[KStage 'stage_evaluate.dvc' didn't change.\n",
      "\u001b[KPipeline is up to date. Nothing to reproduce.\n",
      "\u001b[0m"
     ]
    }
   ],
   "source": [
    "# Nothing to reproduce\n",
    "!dvc repro stage_evaluate.dvc"
   ]
  },
  {
   "cell_type": "markdown",
   "metadata": {},
   "source": [
    "## Add features\n",
    "\n"
   ]
  },
  {
   "cell_type": "markdown",
   "metadata": {},
   "source": [
    "### Create new experiment branch\n",
    "\n",
    "Before editing the code/featurization.py file, please create and checkout a new branch __ratio_features__"
   ]
  },
  {
   "cell_type": "code",
   "execution_count": 36,
   "metadata": {
    "ExecuteTime": {
     "end_time": "2019-06-09T08:05:13.610402Z",
     "start_time": "2019-06-09T08:05:13.475428Z"
    }
   },
   "outputs": [
    {
     "name": "stdout",
     "output_type": "stream",
     "text": [
      "Switched to a new branch 'ratio_features'\r\n"
     ]
    }
   ],
   "source": [
    "# create new branch\n",
    "\n",
    "!git checkout -b ratio_features\n",
    "!git branch"
   ]
  },
  {
   "cell_type": "markdown",
   "metadata": {},
   "source": [
    "### Update featurization.py"
   ]
  },
  {
   "cell_type": "markdown",
   "metadata": {},
   "source": [
    "in file __featurization.py__ uncomment lines \n",
    "\n",
    "    features['sepal_length_to_sepal_width'] = features['sepal_length'] / features['sepal_width']\n",
    "    features['petal_length_to_petal_width'] = features['petal_length'] / features['petal_width']"
   ]
  },
  {
   "cell_type": "markdown",
   "metadata": {},
   "source": [
    "## Reproduce pipeline "
   ]
  },
  {
   "cell_type": "code",
   "execution_count": 38,
   "metadata": {
    "ExecuteTime": {
     "end_time": "2019-06-09T08:05:52.180729Z",
     "start_time": "2019-06-09T08:05:45.603809Z"
    },
    "scrolled": true
   },
   "outputs": [
    {
     "name": "stdout",
     "output_type": "stream",
     "text": [
      "\u001b[KStage 'data/iris.csv.dvc' didn't change.\n",
      "\u001b[K\u001b[33mWARNING\u001b[39m: Dependency 'src/featurization.py' of 'stage_feature_extraction.dvc' changed because it is 'modified'.\n",
      "\u001b[K\u001b[33mWARNING\u001b[39m: Stage 'stage_feature_extraction.dvc' changed.\n",
      "\u001b[KReproducing 'stage_feature_extraction.dvc'\n",
      "\u001b[KRunning command:\n",
      "\tpython src/featurization.py\n",
      "\u001b[KSaving 'data/iris_featurized.csv' to '.dvc/cache/cd/9e208c0232da2fb80b4c927da35dbb'.\n",
      "\u001b[KSaving information to 'stage_feature_extraction.dvc'.\n",
      "\u001b[K\u001b[33mWARNING\u001b[39m: Dependency 'data/iris_featurized.csv' of 'stage_split_dataset.dvc' changed because it is 'modified'.\n",
      "\u001b[K\u001b[33mWARNING\u001b[39m: Stage 'stage_split_dataset.dvc' changed.\n",
      "\u001b[KReproducing 'stage_split_dataset.dvc'\n",
      "\u001b[KRunning command:\n",
      "\tpython src/split_dataset.py --test_size 0.4\n",
      "\u001b[KSaving 'data/train.csv' to '.dvc/cache/87/43ef62798f623fbaae4401f4aab654'.\n",
      "\u001b[KSaving 'data/test.csv' to '.dvc/cache/3d/40f0c85187dda2cd9bf58b3e916630'.\n",
      "\u001b[KSaving information to 'stage_split_dataset.dvc'.\n",
      "\u001b[K\u001b[33mWARNING\u001b[39m: Dependency 'data/train.csv' of 'stage_train.dvc' changed because it is 'modified'.\n",
      "\u001b[K\u001b[33mWARNING\u001b[39m: Stage 'stage_train.dvc' changed.\n",
      "\u001b[KReproducing 'stage_train.dvc'\n",
      "\u001b[KRunning command:\n",
      "\tpython src/train.py\n",
      "\u001b[KSaving 'data/model.joblib' to '.dvc/cache/d7/bb60e8f731671aa212cf137c6f1e52'.\n",
      "\u001b[KSaving information to 'stage_train.dvc'.\n",
      "\u001b[K\u001b[33mWARNING\u001b[39m: Dependency 'data/test.csv' of 'stage_evaluate.dvc' changed because it is 'modified'.\n",
      "\u001b[K\u001b[33mWARNING\u001b[39m: Stage 'stage_evaluate.dvc' changed.\n",
      "\u001b[KReproducing 'stage_evaluate.dvc'\n",
      "\u001b[KRunning command:\n",
      "\tpython src/evaluate.py\n",
      "\u001b[KSaving 'data/eval.txt' to '.dvc/cache/ef/d3a0fee43c80da52d807308c56843b'.\n",
      "\u001b[KSaving information to 'stage_evaluate.dvc'.\n",
      "\u001b[K\n",
      "To track the changes with git run:\n",
      "\n",
      "\tgit add stage_feature_extraction.dvc stage_split_dataset.dvc stage_train.dvc stage_evaluate.dvc\n",
      "\u001b[0m"
     ]
    }
   ],
   "source": [
    "!dvc repro stage_evaluate.dvc"
   ]
  },
  {
   "cell_type": "code",
   "execution_count": 42,
   "metadata": {
    "ExecuteTime": {
     "end_time": "2019-06-09T08:06:37.441004Z",
     "start_time": "2019-06-09T08:06:37.426936Z"
    }
   },
   "outputs": [
    {
     "data": {
      "text/html": [
       "<div>\n",
       "<style scoped>\n",
       "    .dataframe tbody tr th:only-of-type {\n",
       "        vertical-align: middle;\n",
       "    }\n",
       "\n",
       "    .dataframe tbody tr th {\n",
       "        vertical-align: top;\n",
       "    }\n",
       "\n",
       "    .dataframe thead th {\n",
       "        text-align: right;\n",
       "    }\n",
       "</style>\n",
       "<table border=\"1\" class=\"dataframe\">\n",
       "  <thead>\n",
       "    <tr style=\"text-align: right;\">\n",
       "      <th></th>\n",
       "      <th>sepal_length</th>\n",
       "      <th>sepal_width</th>\n",
       "      <th>petal_length</th>\n",
       "      <th>petal_width</th>\n",
       "      <th>species</th>\n",
       "      <th>sepal_length_to_sepal_width</th>\n",
       "      <th>petal_length_to_petal_width</th>\n",
       "    </tr>\n",
       "  </thead>\n",
       "  <tbody>\n",
       "    <tr>\n",
       "      <th>0</th>\n",
       "      <td>5.1</td>\n",
       "      <td>3.5</td>\n",
       "      <td>1.4</td>\n",
       "      <td>0.2</td>\n",
       "      <td>setosa</td>\n",
       "      <td>1.457143</td>\n",
       "      <td>7.0</td>\n",
       "    </tr>\n",
       "    <tr>\n",
       "      <th>1</th>\n",
       "      <td>4.9</td>\n",
       "      <td>3.0</td>\n",
       "      <td>1.4</td>\n",
       "      <td>0.2</td>\n",
       "      <td>setosa</td>\n",
       "      <td>1.633333</td>\n",
       "      <td>7.0</td>\n",
       "    </tr>\n",
       "    <tr>\n",
       "      <th>2</th>\n",
       "      <td>4.7</td>\n",
       "      <td>3.2</td>\n",
       "      <td>1.3</td>\n",
       "      <td>0.2</td>\n",
       "      <td>setosa</td>\n",
       "      <td>1.468750</td>\n",
       "      <td>6.5</td>\n",
       "    </tr>\n",
       "    <tr>\n",
       "      <th>3</th>\n",
       "      <td>4.6</td>\n",
       "      <td>3.1</td>\n",
       "      <td>1.5</td>\n",
       "      <td>0.2</td>\n",
       "      <td>setosa</td>\n",
       "      <td>1.483871</td>\n",
       "      <td>7.5</td>\n",
       "    </tr>\n",
       "    <tr>\n",
       "      <th>4</th>\n",
       "      <td>5.0</td>\n",
       "      <td>3.6</td>\n",
       "      <td>1.4</td>\n",
       "      <td>0.2</td>\n",
       "      <td>setosa</td>\n",
       "      <td>1.388889</td>\n",
       "      <td>7.0</td>\n",
       "    </tr>\n",
       "  </tbody>\n",
       "</table>\n",
       "</div>"
      ],
      "text/plain": [
       "   sepal_length  sepal_width  petal_length  petal_width species  \\\n",
       "0           5.1          3.5           1.4          0.2  setosa   \n",
       "1           4.9          3.0           1.4          0.2  setosa   \n",
       "2           4.7          3.2           1.3          0.2  setosa   \n",
       "3           4.6          3.1           1.5          0.2  setosa   \n",
       "4           5.0          3.6           1.4          0.2  setosa   \n",
       "\n",
       "   sepal_length_to_sepal_width  petal_length_to_petal_width  \n",
       "0                     1.457143                          7.0  \n",
       "1                     1.633333                          7.0  \n",
       "2                     1.468750                          6.5  \n",
       "3                     1.483871                          7.5  \n",
       "4                     1.388889                          7.0  "
      ]
     },
     "execution_count": 42,
     "metadata": {},
     "output_type": "execute_result"
    }
   ],
   "source": [
    "# Check features used in this pipeline\n",
    "\n",
    "import pandas as pd\n",
    "\n",
    "features = pd.read_csv('data/iris_featurized.csv')\n",
    "features.head()"
   ]
  },
  {
   "cell_type": "markdown",
   "metadata": {},
   "source": [
    "## Compare metrics for all runs (experiments)"
   ]
  },
  {
   "cell_type": "code",
   "execution_count": 43,
   "metadata": {
    "ExecuteTime": {
     "end_time": "2019-06-09T08:06:43.163451Z",
     "start_time": "2019-06-09T08:06:41.318920Z"
    }
   },
   "outputs": [
    {
     "name": "stdout",
     "output_type": "stream",
     "text": [
      "\u001b[K\tdata/eval.txt: {\"f1_score\": 0.8084886128364389, \"confusion_matrix\": {\"classes\": [\"setosa\", \"versicolor\", \"virginica\"], \"matrix\": [[23, 0, 0], [0, 9, 0], [0, 10, 18]]}}\n",
      "\u001b[0m"
     ]
    }
   ],
   "source": [
    "# this pipeline metrics \n",
    "\n",
    "!dvc metrics show"
   ]
  },
  {
   "cell_type": "code",
   "execution_count": 51,
   "metadata": {
    "ExecuteTime": {
     "end_time": "2019-06-09T08:07:54.790337Z",
     "start_time": "2019-06-09T08:07:52.752210Z"
    },
    "scrolled": true
   },
   "outputs": [
    {
     "name": "stdout",
     "output_type": "stream",
     "text": [
      "\u001b[KWorking Tree:\n",
      "\u001b[K\tdata/eval.txt: {\"f1_score\": 0.8084886128364389, \"confusion_matrix\": {\"classes\": [\"setosa\", \"versicolor\", \"virginica\"], \"matrix\": [[23, 0, 0], [0, 9, 0], [0, 10, 18]]}}\n",
      "\u001b[Kdvc-tutorial:\n",
      "\u001b[K\tdata/eval.txt: {\"f1_score\": 0.7861833464670345, \"confusion_matrix\": {\"classes\": [\"setosa\", \"versicolor\", \"virginica\"], \"matrix\": [[23, 0, 0], [0, 8, 0], [0, 11, 18]]}}\n",
      "\u001b[Kratio_features:\n",
      "\u001b[K\tdata/eval.txt: {\"f1_score\": 0.7861833464670345, \"confusion_matrix\": {\"classes\": [\"setosa\", \"versicolor\", \"virginica\"], \"matrix\": [[23, 0, 0], [0, 8, 0], [0, 11, 18]]}}\n",
      "\u001b[0m"
     ]
    }
   ],
   "source": [
    "# show all commited pipelines metrics \n",
    "\n",
    "!dvc metrics show -a"
   ]
  },
  {
   "cell_type": "markdown",
   "metadata": {},
   "source": [
    "## Commit new results"
   ]
  },
  {
   "cell_type": "code",
   "execution_count": 59,
   "metadata": {
    "ExecuteTime": {
     "end_time": "2019-06-09T08:09:21.486860Z",
     "start_time": "2019-06-09T08:09:21.351587Z"
    },
    "scrolled": true
   },
   "outputs": [
    {
     "name": "stdout",
     "output_type": "stream",
     "text": [
      " \u001b[31mM\u001b[m tutorial.ipynb\r\n"
     ]
    }
   ],
   "source": [
    "!git status -s"
   ]
  },
  {
   "cell_type": "code",
   "execution_count": 60,
   "metadata": {
    "ExecuteTime": {
     "end_time": "2019-06-09T08:09:23.544302Z",
     "start_time": "2019-06-09T08:09:23.276134Z"
    },
    "scrolled": true
   },
   "outputs": [
    {
     "name": "stdout",
     "output_type": "stream",
     "text": [
      "[ratio_features 20edbac] New features experiment\r\n",
      " 1 file changed, 24 insertions(+), 25 deletions(-)\r\n"
     ]
    }
   ],
   "source": [
    "!git add .\n",
    "!git commit -m \"New features experiment\""
   ]
  },
  {
   "cell_type": "markdown",
   "metadata": {},
   "source": [
    "# Checkout (start over new experiment)\n",
    "\n",
    "- in case new features doesn't result improvements \n",
    "- or we want to improve the model by changing the hyperparameters (with OLD dataset)"
   ]
  },
  {
   "cell_type": "markdown",
   "metadata": {},
   "source": [
    "## Checkout code and data files "
   ]
  },
  {
   "cell_type": "code",
   "execution_count": 61,
   "metadata": {
    "ExecuteTime": {
     "end_time": "2019-06-09T08:09:29.967429Z",
     "start_time": "2019-06-09T08:09:25.838814Z"
    },
    "scrolled": true
   },
   "outputs": [
    {
     "name": "stdout",
     "output_type": "stream",
     "text": [
      "\r",
      "WARNING: data 'data/eval.txt' exists. Removing before checkout.\n",
      "\r",
      "WARNING: data 'data/train.csv' exists. Removing before checkout.\n",
      "\r",
      "WARNING: data 'data/test.csv' exists. Removing before checkout.\n",
      "\r",
      "WARNING: data 'data/model.joblib' exists. Removing before checkout.\n",
      "\r",
      "WARNING: data 'data/iris_featurized.csv' exists. Removing before checkout.\n",
      "[##############################] 100% Checkout finished!\n"
     ]
    },
    {
     "name": "stderr",
     "output_type": "stream",
     "text": [
      "Switched to branch 'dvc-tutorial'\n"
     ]
    }
   ],
   "source": [
    "%%bash\n",
    "\n",
    "git checkout dvc-tutorial\n",
    "dvc checkout"
   ]
  },
  {
   "cell_type": "code",
   "execution_count": 62,
   "metadata": {
    "ExecuteTime": {
     "end_time": "2019-06-09T08:09:34.301451Z",
     "start_time": "2019-06-09T08:09:34.168050Z"
    }
   },
   "outputs": [
    {
     "name": "stdout",
     "output_type": "stream",
     "text": [
      "* \u001b[32mdvc-tutorial\u001b[m\r\n",
      "  master\u001b[m\r\n",
      "  ratio_features\u001b[m\r\n"
     ]
    }
   ],
   "source": [
    "!git branch"
   ]
  },
  {
   "cell_type": "code",
   "execution_count": 63,
   "metadata": {
    "ExecuteTime": {
     "end_time": "2019-06-09T08:09:45.296598Z",
     "start_time": "2019-06-09T08:09:43.437705Z"
    }
   },
   "outputs": [
    {
     "name": "stdout",
     "output_type": "stream",
     "text": [
      "\u001b[K\tdata/eval.txt: {\"f1_score\": 0.7861833464670345, \"confusion_matrix\": {\"classes\": [\"setosa\", \"versicolor\", \"virginica\"], \"matrix\": [[23, 0, 0], [0, 8, 0], [0, 11, 18]]}}\n",
      "\u001b[0m"
     ]
    }
   ],
   "source": [
    "!dvc metrics show"
   ]
  },
  {
   "cell_type": "code",
   "execution_count": 65,
   "metadata": {
    "ExecuteTime": {
     "end_time": "2019-06-09T08:10:02.565175Z",
     "start_time": "2019-06-09T08:10:00.710325Z"
    }
   },
   "outputs": [
    {
     "name": "stdout",
     "output_type": "stream",
     "text": [
      "\u001b[KStage 'data/iris.csv.dvc' didn't change.\n",
      "\u001b[KStage 'stage_feature_extraction.dvc' didn't change.\n",
      "\u001b[KStage 'stage_split_dataset.dvc' didn't change.\n",
      "\u001b[KStage 'stage_train.dvc' didn't change.\n",
      "\u001b[KStage 'stage_evaluate.dvc' didn't change.\n",
      "\u001b[KPipeline is up to date. Nothing to reproduce.\n",
      "\u001b[0m"
     ]
    }
   ],
   "source": [
    "# Nothing to reproduce since code was checked out by `git checkout`\n",
    "# and data files were checked out by `dvc checkout`\n",
    "!dvc repro stage_evaluate.dvc"
   ]
  },
  {
   "cell_type": "code",
   "execution_count": 66,
   "metadata": {
    "ExecuteTime": {
     "end_time": "2019-06-09T08:10:06.892775Z",
     "start_time": "2019-06-09T08:10:04.877400Z"
    }
   },
   "outputs": [
    {
     "name": "stdout",
     "output_type": "stream",
     "text": [
      "\u001b[K\tdata/eval.txt: {\"f1_score\": 0.7861833464670345, \"confusion_matrix\": {\"classes\": [\"setosa\", \"versicolor\", \"virginica\"], \"matrix\": [[23, 0, 0], [0, 8, 0], [0, 11, 18]]}}\n",
      "\u001b[0m"
     ]
    }
   ],
   "source": [
    "!dvc metrics show"
   ]
  },
  {
   "cell_type": "code",
   "execution_count": 67,
   "metadata": {
    "ExecuteTime": {
     "end_time": "2019-06-09T08:10:12.887042Z",
     "start_time": "2019-06-09T08:10:12.871973Z"
    }
   },
   "outputs": [
    {
     "data": {
      "text/html": [
       "<div>\n",
       "<style scoped>\n",
       "    .dataframe tbody tr th:only-of-type {\n",
       "        vertical-align: middle;\n",
       "    }\n",
       "\n",
       "    .dataframe tbody tr th {\n",
       "        vertical-align: top;\n",
       "    }\n",
       "\n",
       "    .dataframe thead th {\n",
       "        text-align: right;\n",
       "    }\n",
       "</style>\n",
       "<table border=\"1\" class=\"dataframe\">\n",
       "  <thead>\n",
       "    <tr style=\"text-align: right;\">\n",
       "      <th></th>\n",
       "      <th>sepal_length</th>\n",
       "      <th>sepal_width</th>\n",
       "      <th>petal_length</th>\n",
       "      <th>petal_width</th>\n",
       "      <th>species</th>\n",
       "    </tr>\n",
       "  </thead>\n",
       "  <tbody>\n",
       "    <tr>\n",
       "      <th>0</th>\n",
       "      <td>5.1</td>\n",
       "      <td>3.5</td>\n",
       "      <td>1.4</td>\n",
       "      <td>0.2</td>\n",
       "      <td>setosa</td>\n",
       "    </tr>\n",
       "    <tr>\n",
       "      <th>1</th>\n",
       "      <td>4.9</td>\n",
       "      <td>3.0</td>\n",
       "      <td>1.4</td>\n",
       "      <td>0.2</td>\n",
       "      <td>setosa</td>\n",
       "    </tr>\n",
       "    <tr>\n",
       "      <th>2</th>\n",
       "      <td>4.7</td>\n",
       "      <td>3.2</td>\n",
       "      <td>1.3</td>\n",
       "      <td>0.2</td>\n",
       "      <td>setosa</td>\n",
       "    </tr>\n",
       "    <tr>\n",
       "      <th>3</th>\n",
       "      <td>4.6</td>\n",
       "      <td>3.1</td>\n",
       "      <td>1.5</td>\n",
       "      <td>0.2</td>\n",
       "      <td>setosa</td>\n",
       "    </tr>\n",
       "    <tr>\n",
       "      <th>4</th>\n",
       "      <td>5.0</td>\n",
       "      <td>3.6</td>\n",
       "      <td>1.4</td>\n",
       "      <td>0.2</td>\n",
       "      <td>setosa</td>\n",
       "    </tr>\n",
       "  </tbody>\n",
       "</table>\n",
       "</div>"
      ],
      "text/plain": [
       "   sepal_length  sepal_width  petal_length  petal_width species\n",
       "0           5.1          3.5           1.4          0.2  setosa\n",
       "1           4.9          3.0           1.4          0.2  setosa\n",
       "2           4.7          3.2           1.3          0.2  setosa\n",
       "3           4.6          3.1           1.5          0.2  setosa\n",
       "4           5.0          3.6           1.4          0.2  setosa"
      ]
     },
     "execution_count": 67,
     "metadata": {},
     "output_type": "execute_result"
    }
   ],
   "source": [
    "# Check features used in this pipeline\n",
    "\n",
    "import pandas as pd\n",
    "\n",
    "features = pd.read_csv('data/iris_featurized.csv')\n",
    "features.head()"
   ]
  },
  {
   "cell_type": "markdown",
   "metadata": {},
   "source": [
    "## Tune the model"
   ]
  },
  {
   "cell_type": "code",
   "execution_count": 68,
   "metadata": {
    "ExecuteTime": {
     "end_time": "2019-06-09T08:10:25.190598Z",
     "start_time": "2019-06-09T08:10:24.919170Z"
    }
   },
   "outputs": [
    {
     "name": "stdout",
     "output_type": "stream",
     "text": [
      "M\ttutorial.ipynb\n",
      "Switched to a new branch 'tuning'\n",
      "  dvc-tutorial\u001b[m\n",
      "  master\u001b[m\n",
      "  ratio_features\u001b[m\n",
      "* \u001b[32mtuning\u001b[m\n"
     ]
    }
   ],
   "source": [
    "# create new branch for experiment\n",
    "\n",
    "!git checkout -b tuning\n",
    "!git branch"
   ]
  },
  {
   "cell_type": "markdown",
   "metadata": {},
   "source": [
    "### Change parameters of classifier (LogisticRegression)\n",
    "\n",
    "in file __train.py__ in constructor of LogisticRegression:\n",
    "\n",
    "* change C param to 0.1\n",
    "\n",
    "in the end you should get:\n",
    "\n",
    "```python\n",
    "clf = LogisticRegression(C=0.1, solver='newton-cg', multi_class='multinomial', max_iter=100)\n",
    "```"
   ]
  },
  {
   "cell_type": "markdown",
   "metadata": {},
   "source": [
    "### Reproduce pipelines"
   ]
  },
  {
   "cell_type": "code",
   "execution_count": 69,
   "metadata": {
    "ExecuteTime": {
     "end_time": "2019-06-09T08:10:50.342976Z",
     "start_time": "2019-06-09T08:10:45.703634Z"
    },
    "scrolled": false
   },
   "outputs": [
    {
     "name": "stdout",
     "output_type": "stream",
     "text": [
      "\u001b[KStage 'data/iris.csv.dvc' didn't change.\n",
      "\u001b[KStage 'stage_feature_extraction.dvc' didn't change.\n",
      "\u001b[KStage 'stage_split_dataset.dvc' didn't change.\n",
      "\u001b[K\u001b[33mWARNING\u001b[39m: Dependency 'src/train.py' of 'stage_train.dvc' changed because it is 'modified'.\n",
      "\u001b[K\u001b[33mWARNING\u001b[39m: Stage 'stage_train.dvc' changed.\n",
      "\u001b[KReproducing 'stage_train.dvc'\n",
      "\u001b[KRunning command:\n",
      "\tpython src/train.py\n",
      "\u001b[KSaving 'data/model.joblib' to '.dvc/cache/be/122f7e293f77f4f636345868dd57c2'.\n",
      "\u001b[KSaving information to 'stage_train.dvc'.\n",
      "\u001b[K\u001b[33mWARNING\u001b[39m: Dependency 'src/train.py' of 'stage_evaluate.dvc' changed because it is 'modified'.\n",
      "\u001b[K\u001b[33mWARNING\u001b[39m: Stage 'stage_evaluate.dvc' changed.\n",
      "\u001b[KReproducing 'stage_evaluate.dvc'\n",
      "\u001b[KRunning command:\n",
      "\tpython src/evaluate.py\n",
      "\u001b[KSaving 'data/eval.txt' to '.dvc/cache/04/a34aa507199d5f1f5c73a841a76463'.\n",
      "\u001b[KSaving information to 'stage_evaluate.dvc'.\n",
      "\u001b[K\n",
      "To track the changes with git run:\n",
      "\n",
      "\tgit add stage_train.dvc stage_evaluate.dvc\n",
      "\u001b[0m"
     ]
    }
   ],
   "source": [
    "# re-run pipeline \n",
    "\n",
    "!dvc repro stage_evaluate.dvc "
   ]
  },
  {
   "cell_type": "code",
   "execution_count": 70,
   "metadata": {
    "ExecuteTime": {
     "end_time": "2019-06-09T08:11:07.184312Z",
     "start_time": "2019-06-09T08:11:07.055076Z"
    }
   },
   "outputs": [
    {
     "name": "stdout",
     "output_type": "stream",
     "text": [
      "{\"f1_score\": 0.9639376218323586, \"confusion_matrix\": {\"classes\": [\"setosa\", \"versicolor\", \"virginica\"], \"matrix\": [[23, 0, 0], [0, 17, 0], [0, 2, 18]]}}"
     ]
    }
   ],
   "source": [
    "!cat data/eval.txt"
   ]
  },
  {
   "cell_type": "code",
   "execution_count": 71,
   "metadata": {
    "ExecuteTime": {
     "end_time": "2019-06-09T08:11:12.474655Z",
     "start_time": "2019-06-09T08:11:10.424805Z"
    }
   },
   "outputs": [
    {
     "name": "stdout",
     "output_type": "stream",
     "text": [
      "\u001b[KWorking Tree:\n",
      "\u001b[K\tdata/eval.txt: {\"f1_score\": 0.9639376218323586, \"confusion_matrix\": {\"classes\": [\"setosa\", \"versicolor\", \"virginica\"], \"matrix\": [[23, 0, 0], [0, 17, 0], [0, 2, 18]]}}\n",
      "\u001b[Kdvc-tutorial:\n",
      "\u001b[K\tdata/eval.txt: {\"f1_score\": 0.7861833464670345, \"confusion_matrix\": {\"classes\": [\"setosa\", \"versicolor\", \"virginica\"], \"matrix\": [[23, 0, 0], [0, 8, 0], [0, 11, 18]]}}\n",
      "\u001b[Kratio_features:\n",
      "\u001b[K\tdata/eval.txt: {\"f1_score\": 0.8084886128364389, \"confusion_matrix\": {\"classes\": [\"setosa\", \"versicolor\", \"virginica\"], \"matrix\": [[23, 0, 0], [0, 9, 0], [0, 10, 18]]}}\n",
      "\u001b[Ktuning:\n",
      "\u001b[K\tdata/eval.txt: {\"f1_score\": 0.7861833464670345, \"confusion_matrix\": {\"classes\": [\"setosa\", \"versicolor\", \"virginica\"], \"matrix\": [[23, 0, 0], [0, 8, 0], [0, 11, 18]]}}\n",
      "\u001b[0m"
     ]
    }
   ],
   "source": [
    "!dvc metrics show -a"
   ]
  },
  {
   "cell_type": "code",
   "execution_count": 72,
   "metadata": {
    "ExecuteTime": {
     "end_time": "2019-06-09T08:11:17.716966Z",
     "start_time": "2019-06-09T08:11:17.704018Z"
    }
   },
   "outputs": [
    {
     "data": {
      "text/html": [
       "<div>\n",
       "<style scoped>\n",
       "    .dataframe tbody tr th:only-of-type {\n",
       "        vertical-align: middle;\n",
       "    }\n",
       "\n",
       "    .dataframe tbody tr th {\n",
       "        vertical-align: top;\n",
       "    }\n",
       "\n",
       "    .dataframe thead th {\n",
       "        text-align: right;\n",
       "    }\n",
       "</style>\n",
       "<table border=\"1\" class=\"dataframe\">\n",
       "  <thead>\n",
       "    <tr style=\"text-align: right;\">\n",
       "      <th></th>\n",
       "      <th>sepal_length</th>\n",
       "      <th>sepal_width</th>\n",
       "      <th>petal_length</th>\n",
       "      <th>petal_width</th>\n",
       "      <th>species</th>\n",
       "    </tr>\n",
       "  </thead>\n",
       "  <tbody>\n",
       "    <tr>\n",
       "      <th>0</th>\n",
       "      <td>5.1</td>\n",
       "      <td>3.5</td>\n",
       "      <td>1.4</td>\n",
       "      <td>0.2</td>\n",
       "      <td>setosa</td>\n",
       "    </tr>\n",
       "    <tr>\n",
       "      <th>1</th>\n",
       "      <td>4.9</td>\n",
       "      <td>3.0</td>\n",
       "      <td>1.4</td>\n",
       "      <td>0.2</td>\n",
       "      <td>setosa</td>\n",
       "    </tr>\n",
       "    <tr>\n",
       "      <th>2</th>\n",
       "      <td>4.7</td>\n",
       "      <td>3.2</td>\n",
       "      <td>1.3</td>\n",
       "      <td>0.2</td>\n",
       "      <td>setosa</td>\n",
       "    </tr>\n",
       "    <tr>\n",
       "      <th>3</th>\n",
       "      <td>4.6</td>\n",
       "      <td>3.1</td>\n",
       "      <td>1.5</td>\n",
       "      <td>0.2</td>\n",
       "      <td>setosa</td>\n",
       "    </tr>\n",
       "    <tr>\n",
       "      <th>4</th>\n",
       "      <td>5.0</td>\n",
       "      <td>3.6</td>\n",
       "      <td>1.4</td>\n",
       "      <td>0.2</td>\n",
       "      <td>setosa</td>\n",
       "    </tr>\n",
       "  </tbody>\n",
       "</table>\n",
       "</div>"
      ],
      "text/plain": [
       "   sepal_length  sepal_width  petal_length  petal_width species\n",
       "0           5.1          3.5           1.4          0.2  setosa\n",
       "1           4.9          3.0           1.4          0.2  setosa\n",
       "2           4.7          3.2           1.3          0.2  setosa\n",
       "3           4.6          3.1           1.5          0.2  setosa\n",
       "4           5.0          3.6           1.4          0.2  setosa"
      ]
     },
     "execution_count": 72,
     "metadata": {},
     "output_type": "execute_result"
    }
   ],
   "source": [
    "# Check features used in this pipeline\n",
    "\n",
    "import pandas as pd\n",
    "\n",
    "features = pd.read_csv('data/iris_featurized.csv')\n",
    "features.head()"
   ]
  },
  {
   "cell_type": "markdown",
   "metadata": {},
   "source": [
    "### Commit"
   ]
  },
  {
   "cell_type": "code",
   "execution_count": 73,
   "metadata": {
    "ExecuteTime": {
     "end_time": "2019-06-09T08:11:22.092160Z",
     "start_time": "2019-06-09T08:11:22.048495Z"
    }
   },
   "outputs": [
    {
     "name": "stdout",
     "output_type": "stream",
     "text": [
      "[tuning 857cbe5] Tune model. C=0.1\n",
      " 4 files changed, 154 insertions(+), 147 deletions(-)\n"
     ]
    }
   ],
   "source": [
    "%%bash\n",
    "\n",
    "git add .\n",
    "git commit -m \"Tune model. C=0.1\""
   ]
  },
  {
   "cell_type": "markdown",
   "metadata": {},
   "source": [
    "### Merge the model to dvc-tutorial"
   ]
  },
  {
   "cell_type": "code",
   "execution_count": 74,
   "metadata": {
    "ExecuteTime": {
     "end_time": "2019-06-09T08:11:36.055886Z",
     "start_time": "2019-06-09T08:11:36.001146Z"
    },
    "scrolled": true
   },
   "outputs": [
    {
     "name": "stdout",
     "output_type": "stream",
     "text": [
      "Updating 7304361..857cbe5\n",
      "Fast-forward\n",
      " src/train.py       |   2 +-\n",
      " stage_evaluate.dvc |   8 +-\n",
      " stage_train.dvc    |   6 +-\n",
      " tutorial.ipynb     | 285 +++++++++++++++++++++++++++--------------------------\n",
      " 4 files changed, 154 insertions(+), 147 deletions(-)\n"
     ]
    },
    {
     "name": "stderr",
     "output_type": "stream",
     "text": [
      "Switched to branch 'dvc-tutorial'\n"
     ]
    }
   ],
   "source": [
    "%%bash\n",
    "\n",
    "git checkout dvc-tutorial\n",
    "git merge tuning"
   ]
  },
  {
   "cell_type": "code",
   "execution_count": null,
   "metadata": {},
   "outputs": [],
   "source": []
  },
  {
   "cell_type": "markdown",
   "metadata": {},
   "source": [
    "# Share data"
   ]
  },
  {
   "cell_type": "markdown",
   "metadata": {},
   "source": [
    "## Setup remote storage (i.e. cloud)"
   ]
  },
  {
   "cell_type": "code",
   "execution_count": 75,
   "metadata": {
    "ExecuteTime": {
     "end_time": "2019-06-09T08:11:44.326947Z",
     "start_time": "2019-06-09T08:11:43.265423Z"
    }
   },
   "outputs": [
    {
     "name": "stdout",
     "output_type": "stream",
     "text": [
      "\u001b[KSetting 'local' as a default remote.\n",
      "\u001b[0m"
     ]
    }
   ],
   "source": [
    "# Create new remote\n",
    "\n",
    "!dvc remote add -d local /tmp/dvc"
   ]
  },
  {
   "cell_type": "code",
   "execution_count": 76,
   "metadata": {
    "ExecuteTime": {
     "end_time": "2019-06-09T08:11:49.638365Z",
     "start_time": "2019-06-09T08:11:49.504651Z"
    }
   },
   "outputs": [
    {
     "name": "stdout",
     "output_type": "stream",
     "text": [
      " \u001b[31mM\u001b[m .dvc/config\r\n"
     ]
    }
   ],
   "source": [
    "# as you can see, .dvc/config is changed\n",
    "\n",
    "!git status -s"
   ]
  },
  {
   "cell_type": "code",
   "execution_count": 77,
   "metadata": {
    "ExecuteTime": {
     "end_time": "2019-06-09T08:11:51.910224Z",
     "start_time": "2019-06-09T08:11:51.783210Z"
    }
   },
   "outputs": [
    {
     "name": "stdout",
     "output_type": "stream",
     "text": [
      "['remote \"local\"']\r\n",
      "url = /tmp/dvc\r\n",
      "[core]\r\n",
      "remote = local\r\n"
     ]
    }
   ],
   "source": [
    "# check config file \n",
    "\n",
    "!cat .dvc/config"
   ]
  },
  {
   "cell_type": "code",
   "execution_count": 78,
   "metadata": {
    "ExecuteTime": {
     "end_time": "2019-06-09T08:11:54.135243Z",
     "start_time": "2019-06-09T08:11:54.095931Z"
    },
    "scrolled": true
   },
   "outputs": [
    {
     "name": "stdout",
     "output_type": "stream",
     "text": [
      "[dvc-tutorial 3fc009c] Add remote storage\n",
      " 1 file changed, 4 insertions(+)\n"
     ]
    }
   ],
   "source": [
    "%%bash\n",
    "\n",
    "git add .\n",
    "git commit -m \"Add remote storage\""
   ]
  },
  {
   "cell_type": "markdown",
   "metadata": {},
   "source": [
    "## Push data to remote"
   ]
  },
  {
   "cell_type": "code",
   "execution_count": 79,
   "metadata": {
    "ExecuteTime": {
     "end_time": "2019-06-09T08:11:59.246872Z",
     "start_time": "2019-06-09T08:11:57.328392Z"
    }
   },
   "outputs": [
    {
     "name": "stdout",
     "output_type": "stream",
     "text": [
      "\u001b[KPreparing to upload data to '/tmp/dvc'\n",
      "\u001b[KPreparing to collect status from /tmp/dvc\n",
      "\u001b[K[##############################] 100% Collecting information\n",
      "\u001b[K[##############################] 100% Analysing status.\n",
      "\u001b[K(1/5): [##############################] 100% data/train.csv\n",
      "\u001b[K(2/5): [##############################] 100% data/eval.txtturized.csv\n",
      "\u001b[K(3/5): [##############################] 100% data/iris_featurized.csv\n",
      "\u001b[K(4/5): [##############################] 100% data/test.csv\n",
      "\u001b[K(5/5): [##############################] 100% data/model.joblib\n",
      "\u001b[0m"
     ]
    }
   ],
   "source": [
    "# Push data to remote\n",
    "\n",
    "!dvc push"
   ]
  },
  {
   "cell_type": "markdown",
   "metadata": {},
   "source": [
    "## Pull date from remote"
   ]
  },
  {
   "cell_type": "code",
   "execution_count": 80,
   "metadata": {
    "ExecuteTime": {
     "end_time": "2019-06-09T08:12:06.692580Z",
     "start_time": "2019-06-09T08:12:04.239910Z"
    }
   },
   "outputs": [
    {
     "name": "stdout",
     "output_type": "stream",
     "text": [
      "\u001b[KPreparing to download data from '/tmp/dvc'\n",
      "\u001b[KPreparing to collect status from /tmp/dvc\n",
      "\u001b[K[##############################] 100% Collecting information\n",
      "\u001b[K[##############################] 100% Analysing status.\n",
      "\u001b[K[##############################] 100% Checkout finished!\n",
      "\n",
      "\u001b[KEverything is up to date.\n",
      "\u001b[0m"
     ]
    }
   ],
   "source": [
    "!dvc pull"
   ]
  },
  {
   "cell_type": "code",
   "execution_count": null,
   "metadata": {},
   "outputs": [],
   "source": []
  }
 ],
 "metadata": {
  "kernelspec": {
   "display_name": "Python 3",
   "language": "python",
   "name": "python3"
  },
  "language_info": {
   "codemirror_mode": {
    "name": "ipython",
    "version": 3
   },
   "file_extension": ".py",
   "mimetype": "text/x-python",
   "name": "python",
   "nbconvert_exporter": "python",
   "pygments_lexer": "ipython3",
   "version": "3.7.3"
  },
  "toc": {
   "base_numbering": 1,
   "nav_menu": {},
   "number_sections": true,
   "sideBar": true,
   "skip_h1_title": false,
   "title_cell": "Table of Contents",
   "title_sidebar": "Contents",
   "toc_cell": false,
   "toc_position": {
    "height": "calc(100% - 180px)",
    "left": "10px",
    "top": "150px",
    "width": "288px"
   },
   "toc_section_display": true,
   "toc_window_display": true
  },
  "varInspector": {
   "cols": {
    "lenName": 16,
    "lenType": 16,
    "lenVar": 40
   },
   "kernels_config": {
    "python": {
     "delete_cmd_postfix": "",
     "delete_cmd_prefix": "del ",
     "library": "var_list.py",
     "varRefreshCmd": "print(var_dic_list())"
    },
    "r": {
     "delete_cmd_postfix": ") ",
     "delete_cmd_prefix": "rm(",
     "library": "var_list.r",
     "varRefreshCmd": "cat(var_dic_list()) "
    }
   },
   "types_to_exclude": [
    "module",
    "function",
    "builtin_function_or_method",
    "instance",
    "_Feature"
   ],
   "window_display": false
  }
 },
 "nbformat": 4,
 "nbformat_minor": 2
}
